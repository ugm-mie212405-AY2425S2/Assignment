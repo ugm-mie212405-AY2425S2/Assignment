{
 "cells": [
  {
   "cell_type": "code",
   "execution_count": 5,
   "metadata": {},
   "outputs": [],
   "source": [
    "import cv2\n",
    "import numpy as np\n",
    "import os"
   ]
  },
  {
   "cell_type": "code",
   "execution_count": null,
   "metadata": {},
   "outputs": [
    {
     "name": "stdout",
     "output_type": "stream",
     "text": [
      "Mask 013.png tidak valid, dilewati.\n",
      "Mask 045.png tidak valid, dilewati.\n",
      "Mask 061.png tidak valid, dilewati.\n",
      "Mask 062.png tidak valid, dilewati.\n",
      "Mask 063.png tidak valid, dilewati.\n",
      "Mask 077.png tidak valid, dilewati.\n",
      "Mask 086.png tidak valid, dilewati.\n",
      "Mask 087.png tidak valid, dilewati.\n",
      "Mask 088.png tidak valid, dilewati.\n",
      "Mask 156.png tidak valid, dilewati.\n",
      "Mask 161.png tidak valid, dilewati.\n",
      "Mask 162.png tidak valid, dilewati.\n",
      "Mask 163.png tidak valid, dilewati.\n",
      "Mask 269.png tidak valid, dilewati.\n",
      "Mask 288.png tidak valid, dilewati.\n",
      "Mask 305.png tidak valid, dilewati.\n",
      "Mask 308.png tidak valid, dilewati.\n",
      "Mask 320.png tidak valid, dilewati.\n",
      "Mask 324.png tidak valid, dilewati.\n",
      "Mask 328.png tidak valid, dilewati.\n",
      "Mask 337.png tidak valid, dilewati.\n",
      "Segmentasi selesai, hasil disimpan di: segmented_image\n"
     ]
    }
   ],
   "source": [
    "# Path ke folder gambar dan mask\n",
    "input_folder = r\"dataset/images\"\n",
    "mask_folder = r\"dataset/masks_origin\"\n",
    "output_folder = r\"segmented_image\"\n",
    "\n",
    "# Pastikan folder output ada\n",
    "os.makedirs(output_folder, exist_ok=True)\n",
    "\n",
    "# Loop semua file dalam folder\n",
    "for filename in os.listdir(input_folder):\n",
    "    if filename.endswith((\".png\", \".jpg\", \".jpeg\")):\n",
    "        img_path = os.path.join(input_folder, filename)\n",
    "        mask_path = os.path.join(mask_folder, filename)\n",
    "\n",
    "        if not os.path.exists(mask_path):\n",
    "            print(f\"Mask untuk {filename} tidak ditemukan, dilewati.\")\n",
    "            continue\n",
    "\n",
    "        # Baca gambar dan mask\n",
    "        img = cv2.imread(img_path)\n",
    "        mask = cv2.imread(mask_path, cv2.IMREAD_GRAYSCALE)\n",
    "\n",
    "        # Pastikan mask memiliki ukuran yang sama dengan gambar\n",
    "        mask = cv2.resize(mask, (img.shape[1], img.shape[0]))\n",
    "\n",
    "        # Konversi mask ke format yang sesuai untuk GrabCut\n",
    "        mask_gc = np.zeros_like(mask, dtype=np.uint8)\n",
    "        mask_gc[mask > 200] = cv2.GC_FGD\n",
    "        mask_gc[mask < 50] = cv2.GC_BGD\n",
    "        mask_gc[(mask >= 50) & (mask <= 200)] = cv2.GC_PR_FGD\n",
    "\n",
    "        if (\n",
    "            np.count_nonzero(mask_gc == cv2.GC_FGD) == 0\n",
    "            or np.count_nonzero(mask_gc == cv2.GC_BGD) == 0\n",
    "        ):\n",
    "            print(f\"Mask {filename} tidak valid, dilewati.\")\n",
    "            continue\n",
    "\n",
    "        # Buat model background dan foreground (dibutuhkan GrabCut)\n",
    "        bgd_model = np.zeros((1, 65), np.float64)\n",
    "        fgd_model = np.zeros((1, 65), np.float64)\n",
    "\n",
    "        # Jalankan GrabCut\n",
    "        cv2.grabCut(\n",
    "            img, mask_gc, None, bgd_model, fgd_model, 5, cv2.GC_INIT_WITH_MASK\n",
    "        )\n",
    "\n",
    "        # Konversi hasil GrabCut menjadi mask biner\n",
    "        segmented_mask = np.where(\n",
    "            (mask_gc == cv2.GC_FGD) | (mask_gc == cv2.GC_PR_FGD), 255, 0\n",
    "        ).astype(\"uint8\")\n",
    "\n",
    "        # Terapkan mask ke gambar asli\n",
    "        segmented_img = cv2.bitwise_and(img, img, mask=segmented_mask)\n",
    "\n",
    "        # Simpan hasil segmentasi\n",
    "        output_path = os.path.join(output_folder, \"seg_\" + filename)\n",
    "        cv2.imwrite(output_path, segmented_img)\n",
    "\n",
    "print(\"Segmentasi selesai, hasil disimpan di:\", output_folder)"
   ]
  },
  {
   "cell_type": "code",
   "execution_count": null,
   "metadata": {},
   "outputs": [
    {
     "name": "stdout",
     "output_type": "stream",
     "text": [
      "Segmentasi selesai, hasil disimpan di: segmeted_wth_mask\n"
     ]
    }
   ],
   "source": [
    "# Path ke folder berisi gambar\n",
    "input_folder = r\"dataset/images\"\n",
    "output_folder = r\"segmeted_wth_mask\"\n",
    "# Pastikan folder output ada\n",
    "os.makedirs(output_folder, exist_ok=True)\n",
    "# Loop semua file dalam folder\n",
    "for filename in os.listdir(input_folder):\n",
    "    if filename.endswith((\".png\", \".jpg\", \".jpeg\")):\n",
    "        img_path = os.path.join(input_folder, filename)\n",
    "        img = cv2.imread(img_path, cv2.IMREAD_GRAYSCALE)\n",
    "        # Preprocessing\n",
    "        blurred = cv2.GaussianBlur(img, (5, 5), 0)\n",
    "        # Segmentasi dengan thresholding Otsu\n",
    "        _, segmented = cv2.threshold(\n",
    "            blurred, 0, 255, cv2.THRESH_BINARY + cv2.THRESH_OTSU\n",
    "        )\n",
    "        # Simpan hasil segmentasi\n",
    "        output_path = os.path.join(output_folder, \"seg_\" + filename)\n",
    "        cv2.imwrite(output_path, segmented)\n",
    "print(\"Segmentasi selesai, hasil disimpan di:\", output_folder)"
   ]
  }
 ],
 "metadata": {
  "kernelspec": {
   "display_name": "base",
   "language": "python",
   "name": "python3"
  },
  "language_info": {
   "codemirror_mode": {
    "name": "ipython",
    "version": 3
   },
   "file_extension": ".py",
   "mimetype": "text/x-python",
   "name": "python",
   "nbconvert_exporter": "python",
   "pygments_lexer": "ipython3",
   "version": "3.12.3"
  }
 },
 "nbformat": 4,
 "nbformat_minor": 2
}
