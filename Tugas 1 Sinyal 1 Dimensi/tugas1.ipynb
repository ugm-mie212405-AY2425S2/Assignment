{
  "metadata": {
    "kernelspec": {
      "language": "python",
      "display_name": "Python 3",
      "name": "python3"
    },
    "language_info": {
      "name": "python",
      "version": "3.10.14",
      "mimetype": "text/x-python",
      "codemirror_mode": {
        "name": "ipython",
        "version": 3
      },
      "pygments_lexer": "ipython3",
      "nbconvert_exporter": "python",
      "file_extension": ".py"
    },
    "kaggle": {
      "accelerator": "none",
      "dataSources": [
        {
          "sourceId": 7243196,
          "sourceType": "datasetVersion",
          "datasetId": 4195468
        }
      ],
      "dockerImageVersionId": 30786,
      "isInternetEnabled": false,
      "language": "python",
      "sourceType": "notebook",
      "isGpuEnabled": false
    },
    "colab": {
      "provenance": []
    }
  },
  "nbformat_minor": 0,
  "nbformat": 4,
  "cells": [
    {
      "cell_type": "code",
      "source": [
        "!kaggle datasets download -d warcoder/infant-cry-audio-corpus --unzip -p \"/content/drive/MyDrive/datasets/\"\n"
      ],
      "metadata": {
        "colab": {
          "base_uri": "https://localhost:8080/"
        },
        "id": "UhQg5kr-20-4",
        "outputId": "5bdbc9a3-e1a7-46a4-c08a-16bfc2d1ecb9"
      },
      "execution_count": null,
      "outputs": [
        {
          "output_type": "stream",
          "name": "stdout",
          "text": [
            "Dataset URL: https://www.kaggle.com/datasets/warcoder/infant-cry-audio-corpus\n",
            "License(s): other\n",
            "Downloading infant-cry-audio-corpus.zip to /content/drive/MyDrive/datasets\n",
            " 97% 38.0M/39.0M [00:00<00:00, 83.6MB/s]\n",
            "100% 39.0M/39.0M [00:00<00:00, 82.1MB/s]\n"
          ]
        }
      ]
    },
    {
      "cell_type": "code",
      "source": [
        "import os\n",
        "import librosa\n",
        "import numpy as np\n",
        "from sklearn.model_selection import train_test_split\n",
        "from sklearn.preprocessing import LabelEncoder\n",
        "from sklearn.metrics import accuracy_score, classification_report\n",
        "from sklearn.neighbors import KNeighborsClassifier\n",
        "from sklearn.naive_bayes import GaussianNB\n",
        "from sklearn.svm import SVC\n",
        "from sklearn.metrics import accuracy_score, precision_score, recall_score, f1_score, confusion_matrix, ConfusionMatrixDisplay\n",
        "import matplotlib.pyplot as plt\n",
        "import random"
      ],
      "metadata": {
        "trusted": true,
        "execution": {
          "iopub.status.busy": "2025-01-22T11:07:35.324699Z",
          "iopub.execute_input": "2025-01-22T11:07:35.325244Z",
          "iopub.status.idle": "2025-01-22T11:07:35.331887Z",
          "shell.execute_reply.started": "2025-01-22T11:07:35.325207Z",
          "shell.execute_reply": "2025-01-22T11:07:35.3307Z"
        },
        "id": "gtM2hzCh2wX6"
      },
      "outputs": [],
      "execution_count": null
    },
    {
      "cell_type": "markdown",
      "source": [
        "# Feature extraction"
      ],
      "metadata": {
        "id": "LHJFsawB2wX_"
      }
    },
    {
      "cell_type": "code",
      "source": [
        "# MFCC extraction function\n",
        "def extract_mfcc(file_path, n_mfcc=100, fixed_length=100):\n",
        "    try:\n",
        "        # Read audio file\n",
        "        y, sr = librosa.load(file_path, sr=None)\n",
        "        # Extract MFCC\n",
        "        mfcc = librosa.feature.mfcc(y=y, sr=sr, n_mfcc=n_mfcc)\n",
        "        # Padding or trimming to a fixed length\n",
        "        if mfcc.shape[1] < fixed_length:\n",
        "            pad_width = fixed_length - mfcc.shape[1]\n",
        "            mfcc = np.pad(mfcc, pad_width=((0, 0), (0, pad_width)), mode='constant')\n",
        "        else:\n",
        "            mfcc = mfcc[:, :fixed_length]\n",
        "        return mfcc\n",
        "    except Exception as e:\n",
        "        print(f\"Error processing {file_path}: {e}\")\n",
        "        return None"
      ],
      "metadata": {
        "trusted": true,
        "execution": {
          "iopub.status.busy": "2025-01-22T11:07:35.333571Z",
          "iopub.execute_input": "2025-01-22T11:07:35.333996Z",
          "iopub.status.idle": "2025-01-22T11:07:35.351052Z",
          "shell.execute_reply.started": "2025-01-22T11:07:35.33395Z",
          "shell.execute_reply": "2025-01-22T11:07:35.349939Z"
        },
        "id": "oonQm3RC2wYB"
      },
      "outputs": [],
      "execution_count": null
    },
    {
      "cell_type": "markdown",
      "source": [
        "# Evaluation functions"
      ],
      "metadata": {
        "id": "PaaGj0V02wYC"
      }
    },
    {
      "cell_type": "code",
      "source": [
        "def evaluate_model(model, X_test, y_test, class_names):\n",
        "    y_pred = model.predict(X_test)\n",
        "\n",
        "    acc = accuracy_score(y_test, y_pred)\n",
        "    precision = precision_score(y_test, y_pred, average=\"weighted\")\n",
        "    recall = recall_score(y_test, y_pred, average=\"weighted\")\n",
        "    f1 = f1_score(y_test, y_pred, average=\"weighted\")\n",
        "\n",
        "    cm = confusion_matrix(y_test, y_pred)\n",
        "    disp = ConfusionMatrixDisplay(confusion_matrix=cm, display_labels=class_names)\n",
        "    disp.plot(cmap=plt.cm.Blues, xticks_rotation=\"vertical\")\n",
        "    plt.title(\"Confusion Matrix\")\n",
        "    plt.show()\n",
        "\n",
        "    metrics = {\n",
        "        \"Accuracy\": acc,\n",
        "        \"Precision\": precision,\n",
        "        \"Recall\": recall,\n",
        "        \"F1-Score\": f1,\n",
        "        \"Confusion Matrix\": cm\n",
        "    }\n",
        "\n",
        "    print(f\"Accuracy: {acc:.2f}\")\n",
        "    print(f\"Precision: {precision:.2f}\")\n",
        "    print(f\"Recall: {recall:.2f}\")\n",
        "    print(f\"F1-Score: {f1:.2f}\")\n",
        "\n",
        "    return metrics\n"
      ],
      "metadata": {
        "trusted": true,
        "execution": {
          "iopub.status.busy": "2025-01-22T11:07:35.352511Z",
          "iopub.execute_input": "2025-01-22T11:07:35.353Z",
          "iopub.status.idle": "2025-01-22T11:07:35.371435Z",
          "shell.execute_reply.started": "2025-01-22T11:07:35.352952Z",
          "shell.execute_reply": "2025-01-22T11:07:35.37036Z"
        },
        "id": "NP8g0L5O2wYD"
      },
      "outputs": [],
      "execution_count": null
    },
    {
      "cell_type": "markdown",
      "source": [
        "# Feature extraction"
      ],
      "metadata": {
        "id": "zfLAGy3z2wYD"
      }
    },
    {
      "cell_type": "code",
      "source": [
        "import os\n",
        "import librosa\n",
        "import numpy as np\n",
        "\n",
        "base_dir = \"/content/drive/MyDrive/datasets/donateacry_corpus\"\n",
        "\n",
        "mfcc_list = []\n",
        "labels = []\n",
        "\n",
        "fixed_length = 100\n",
        "\n",
        "for subdir, _, files in os.walk(base_dir):\n",
        "    for file in files:\n",
        "        if file.endswith(\".wav\"):\n",
        "            file_path = os.path.join(subdir, file)\n",
        "            mfcc_features = extract_mfcc(file_path, fixed_length=fixed_length)\n",
        "            if mfcc_features is not None:\n",
        "                mfcc_list.append(mfcc_features)\n",
        "                labels.append(os.path.basename(subdir))\n",
        "\n",
        "mfcc_array = np.array(mfcc_list)\n",
        "print(f\"MFCC array shape: {mfcc_array.shape}\")"
      ],
      "metadata": {
        "_uuid": "8f2839f25d086af736a60e9eeb907d3b93b6e0e5",
        "_cell_guid": "b1076dfc-b9ad-4769-8c92-a6c4dae69d19",
        "trusted": true,
        "execution": {
          "iopub.status.busy": "2025-01-22T11:07:35.374007Z",
          "iopub.execute_input": "2025-01-22T11:07:35.3744Z",
          "iopub.status.idle": "2025-01-22T11:07:41.401329Z",
          "shell.execute_reply.started": "2025-01-22T11:07:35.374357Z",
          "shell.execute_reply": "2025-01-22T11:07:41.400226Z"
        },
        "colab": {
          "base_uri": "https://localhost:8080/"
        },
        "id": "VwwQhYTR2wYE",
        "outputId": "961a58ad-1c08-409c-bb9a-29fe1ea10322"
      },
      "outputs": [
        {
          "output_type": "stream",
          "name": "stdout",
          "text": [
            "MFCC array shape: (457, 100, 100)\n"
          ]
        }
      ],
      "execution_count": null
    },
    {
      "cell_type": "markdown",
      "source": [
        "# Prepare data"
      ],
      "metadata": {
        "id": "Sx8_OWIE2wYF"
      }
    },
    {
      "cell_type": "code",
      "source": [
        "# prepare data\n",
        "label_encoder = LabelEncoder()\n",
        "y = label_encoder.fit_transform(labels)\n",
        "\n",
        "print(f\"Labels shape: {y.shape}\")\n",
        "\n",
        "# Downsample to 27 samples per class\n",
        "target_samples = 27\n",
        "downsampled_mfcc_list = []\n",
        "downsampled_labels = []\n",
        "\n",
        "for label in np.unique(labels):\n",
        "    indices = [i for i, l in enumerate(labels) if l == label]\n",
        "    selected_indices = random.sample(indices, min(target_samples, len(indices)))\n",
        "    downsampled_mfcc_list.extend(mfcc_array[selected_indices])\n",
        "    downsampled_labels.extend([label] * len(selected_indices))\n",
        "\n",
        "downsampled_mfcc_array = np.array(downsampled_mfcc_list)\n",
        "downsampled_labels = np.array(downsampled_labels)\n",
        "\n",
        "print(f\"Downsampled MFCC array shape: {downsampled_mfcc_array.shape}\")\n",
        "\n",
        "X_train, X_test, y_train, y_test = train_test_split(downsampled_mfcc_array, label_encoder.transform(downsampled_labels), test_size=0.2, random_state=42)\n",
        "\n",
        "print(f\"X_train shape: {X_train.shape}\")\n",
        "print(f\"X_test shape: {X_test.shape}\")\n",
        "print(f\"y_train shape: {y_train.shape}\")\n",
        "print(f\"y_test shape: {y_test.shape}\")\n"
      ],
      "metadata": {
        "trusted": true,
        "execution": {
          "iopub.status.busy": "2025-01-22T11:30:16.179305Z",
          "iopub.execute_input": "2025-01-22T11:30:16.179738Z",
          "iopub.status.idle": "2025-01-22T11:30:16.197308Z",
          "shell.execute_reply.started": "2025-01-22T11:30:16.179699Z",
          "shell.execute_reply": "2025-01-22T11:30:16.196049Z"
        },
        "colab": {
          "base_uri": "https://localhost:8080/"
        },
        "id": "CwFrfHf92wYF",
        "outputId": "f50bba8b-e6f5-45fb-b64a-bf118daca897"
      },
      "outputs": [
        {
          "output_type": "stream",
          "name": "stdout",
          "text": [
            "Labels shape: (457,)\n",
            "Downsampled MFCC array shape: (102, 100, 100)\n",
            "X_train shape: (81, 100, 100)\n",
            "X_test shape: (21, 100, 100)\n",
            "y_train shape: (81,)\n",
            "y_test shape: (21,)\n"
          ]
        }
      ],
      "execution_count": null
    },
    {
      "cell_type": "code",
      "source": [
        "n_samples, n_mfcc, n_frames = X_train.shape\n",
        "X_train_2d = X_train.reshape(n_samples, n_mfcc * n_frames)\n",
        "X_test_2d = X_test.reshape(X_test.shape[0], n_mfcc * n_frames)\n",
        "\n",
        "print(f\"X_train_2d shape: {X_train_2d.shape}\")\n",
        "print(f\"X_test_2d shape: {X_test_2d.shape}\")"
      ],
      "metadata": {
        "trusted": true,
        "execution": {
          "iopub.status.busy": "2025-01-22T11:30:16.199543Z",
          "iopub.execute_input": "2025-01-22T11:30:16.200025Z",
          "iopub.status.idle": "2025-01-22T11:30:16.213476Z",
          "shell.execute_reply.started": "2025-01-22T11:30:16.199975Z",
          "shell.execute_reply": "2025-01-22T11:30:16.212254Z"
        },
        "colab": {
          "base_uri": "https://localhost:8080/"
        },
        "id": "Geu1iMzF2wYG",
        "outputId": "5579cae5-b53e-4416-e49c-70938f65faab"
      },
      "outputs": [
        {
          "output_type": "stream",
          "name": "stdout",
          "text": [
            "X_train_2d shape: (81, 10000)\n",
            "X_test_2d shape: (21, 10000)\n"
          ]
        }
      ],
      "execution_count": null
    },
    {
      "cell_type": "code",
      "source": [
        "# Print class distributions\n",
        "print(f\"Total samples: {len(downsampled_labels)}\")\n",
        "unique_labels, counts = np.unique(downsampled_labels, return_counts=True)\n",
        "print(f\"Number of classes: {len(unique_labels)}\")\n",
        "print(\"Class distribution:\")\n",
        "for label, count in zip(unique_labels, counts):\n",
        "    print(f\" - {label}: {count}\")\n",
        "\n",
        "plt.figure(figsize=(8, 6))\n",
        "plt.bar(unique_labels, counts, color='skyblue')\n",
        "plt.title(\"Class Distribution\")\n",
        "plt.xlabel(\"Class Labels\")\n",
        "plt.ylabel(\"Number of Samples\")\n",
        "plt.xticks(rotation=45)\n",
        "plt.show()"
      ],
      "metadata": {
        "trusted": true,
        "execution": {
          "iopub.status.busy": "2025-01-22T11:30:16.214886Z",
          "iopub.execute_input": "2025-01-22T11:30:16.215224Z",
          "iopub.status.idle": "2025-01-22T11:30:16.447112Z",
          "shell.execute_reply.started": "2025-01-22T11:30:16.215191Z",
          "shell.execute_reply": "2025-01-22T11:30:16.44599Z"
        },
        "colab": {
          "base_uri": "https://localhost:8080/",
          "height": 752
        },
        "id": "XugYTmAw2wYH",
        "outputId": "bcc8d806-2a80-47f3-c072-40233ea6b169"
      },
      "outputs": [
        {
          "output_type": "stream",
          "name": "stdout",
          "text": [
            "Total samples: 102\n",
            "Number of classes: 5\n",
            "Class distribution:\n",
            " - belly_pain: 16\n",
            " - burping: 8\n",
            " - discomfort: 27\n",
            " - hungry: 27\n",
            " - tired: 24\n"
          ]
        },
        {
          "output_type": "display_data",
          "data": {
            "text/plain": [
              "<Figure size 800x600 with 1 Axes>"
            ],
            "image/png": "[encoded data removed]"
          },
          "metadata": {}
        }
      ],
      "execution_count": null
    },
    {
      "cell_type": "markdown",
      "source": [
        "# Apply the model"
      ],
      "metadata": {
        "id": "2SBcQyiB2wYI"
      }
    },
    {
      "cell_type": "code",
      "source": [
        "knn_model = KNeighborsClassifier(n_neighbors=2)\n",
        "knn_model.fit(X_train_2d, y_train)\n",
        "knn_metrics = evaluate_model(knn_model, X_test_2d, y_test, label_encoder.classes_)"
      ],
      "metadata": {
        "trusted": true,
        "execution": {
          "iopub.status.busy": "2025-01-22T11:30:16.44997Z",
          "iopub.execute_input": "2025-01-22T11:30:16.450747Z",
          "iopub.status.idle": "2025-01-22T11:30:16.858072Z",
          "shell.execute_reply.started": "2025-01-22T11:30:16.450697Z",
          "shell.execute_reply": "2025-01-22T11:30:16.856663Z"
        },
        "colab": {
          "base_uri": "https://localhost:8080/",
          "height": 656
        },
        "id": "axKwpxN-2wYI",
        "outputId": "7a0346fe-f29e-4413-f427-0ae351e64272"
      },
      "outputs": [
        {
          "output_type": "stream",
          "name": "stderr",
          "text": [
            "/usr/local/lib/python3.11/dist-packages/sklearn/metrics/_classification.py:1565: UndefinedMetricWarning: Precision is ill-defined and being set to 0.0 in labels with no predicted samples. Use `zero_division` parameter to control this behavior.\n",
            "  _warn_prf(average, modifier, f\"{metric.capitalize()} is\", len(result))\n"
          ]
        },
        {
          "output_type": "display_data",
          "data": {
            "text/plain": [
              "<Figure size 640x480 with 2 Axes>"
            ],
            "image/png": "[encoded data removed]"
          },
          "metadata": {}
        },
        {
          "output_type": "stream",
          "name": "stdout",
          "text": [
            "Accuracy: 0.33\n",
            "Precision: 0.44\n",
            "Recall: 0.33\n",
            "F1-Score: 0.30\n"
          ]
        }
      ],
      "execution_count": null
    },
    {
      "cell_type": "code",
      "source": [
        "# Naive Bayes\n",
        "nb_model = GaussianNB()\n",
        "nb_model.fit(X_train_2d, y_train)\n",
        "nb_metrics = evaluate_model(nb_model, X_test_2d, y_test, label_encoder.classes_)"
      ],
      "metadata": {
        "trusted": true,
        "execution": {
          "iopub.status.busy": "2025-01-22T11:30:16.859606Z",
          "iopub.execute_input": "2025-01-22T11:30:16.860572Z",
          "iopub.status.idle": "2025-01-22T11:30:17.128374Z",
          "shell.execute_reply.started": "2025-01-22T11:30:16.86052Z",
          "shell.execute_reply": "2025-01-22T11:30:17.127347Z"
        },
        "colab": {
          "base_uri": "https://localhost:8080/",
          "height": 656
        },
        "id": "rePEbrVC2wYJ",
        "outputId": "7f78a38e-301d-4ec4-d8b5-83dce192dd45"
      },
      "outputs": [
        {
          "output_type": "stream",
          "name": "stderr",
          "text": [
            "/usr/local/lib/python3.11/dist-packages/sklearn/metrics/_classification.py:1565: UndefinedMetricWarning: Precision is ill-defined and being set to 0.0 in labels with no predicted samples. Use `zero_division` parameter to control this behavior.\n",
            "  _warn_prf(average, modifier, f\"{metric.capitalize()} is\", len(result))\n"
          ]
        },
        {
          "output_type": "display_data",
          "data": {
            "text/plain": [
              "<Figure size 640x480 with 2 Axes>"
            ],
            "image/png": "[encoded data removed]"
          },
          "metadata": {}
        },
        {
          "output_type": "stream",
          "name": "stdout",
          "text": [
            "Accuracy: 0.29\n",
            "Precision: 0.28\n",
            "Recall: 0.29\n",
            "F1-Score: 0.25\n"
          ]
        }
      ],
      "execution_count": null
    },
    {
      "cell_type": "code",
      "source": [
        "# SVM\n",
        "svm_model = SVC(kernel=\"linear\", random_state=42)\n",
        "svm_model.fit(X_train_2d, y_train)\n",
        "svm_metrics = evaluate_model(svm_model, X_test_2d, y_test, label_encoder.classes_)"
      ],
      "metadata": {
        "trusted": true,
        "execution": {
          "iopub.status.busy": "2025-01-22T11:30:17.129885Z",
          "iopub.execute_input": "2025-01-22T11:30:17.130629Z",
          "iopub.status.idle": "2025-01-22T11:30:17.446992Z",
          "shell.execute_reply.started": "2025-01-22T11:30:17.13058Z",
          "shell.execute_reply": "2025-01-22T11:30:17.445924Z"
        },
        "colab": {
          "base_uri": "https://localhost:8080/",
          "height": 601
        },
        "id": "4BtxVL2g2wYJ",
        "outputId": "1e8f2ee8-7d42-4e47-ee47-c2d658d38b41"
      },
      "outputs": [
        {
          "output_type": "display_data",
          "data": {
            "text/plain": [
              "<Figure size 640x480 with 2 Axes>"
            ],
            "image/png": "[encoded data removed]"
          },
          "metadata": {}
        },
        {
          "output_type": "stream",
          "name": "stdout",
          "text": [
            "Accuracy: 0.19\n",
            "Precision: 0.14\n",
            "Recall: 0.19\n",
            "F1-Score: 0.16\n"
          ]
        }
      ],
      "execution_count": null
    },
    {
      "cell_type": "markdown",
      "source": [
        "# Compare results"
      ],
      "metadata": {
        "id": "EKoMQKXs2wYK"
      }
    },
    {
      "cell_type": "code",
      "source": [
        "results = {\n",
        "    \"KNN\": knn_metrics[\"Accuracy\"],\n",
        "    \"Naive Bayes\": nb_metrics[\"Accuracy\"],\n",
        "    \"SVM\": svm_metrics[\"Accuracy\"]\n",
        "}\n",
        "\n",
        "print(\"\\nModel Comparison:\")\n",
        "for model, acc in results.items():\n",
        "    print(f\"{model}: {acc:.2f}\")"
      ],
      "metadata": {
        "trusted": true,
        "execution": {
          "iopub.status.busy": "2025-01-22T11:30:17.448195Z",
          "iopub.execute_input": "2025-01-22T11:30:17.448503Z",
          "iopub.status.idle": "2025-01-22T11:30:17.454718Z",
          "shell.execute_reply.started": "2025-01-22T11:30:17.448473Z",
          "shell.execute_reply": "2025-01-22T11:30:17.453693Z"
        },
        "colab": {
          "base_uri": "https://localhost:8080/"
        },
        "id": "JTT7olU12wYL",
        "outputId": "c9eaf1cc-b35b-49dd-8fa7-3daf55b1bc5a"
      },
      "outputs": [
        {
          "output_type": "stream",
          "name": "stdout",
          "text": [
            "\n",
            "Model Comparison:\n",
            "KNN: 0.33\n",
            "Naive Bayes: 0.29\n",
            "SVM: 0.19\n"
          ]
        }
      ],
      "execution_count": null
    },
    {
      "cell_type": "code",
      "source": [
        "def predict_audio(model, file_path, label_encoder, fixed_length=100):\n",
        "    # Ekstraksi fitur MFCC dari file audio\n",
        "    mfcc_features = extract_mfcc(file_path, fixed_length=fixed_length)\n",
        "\n",
        "    if mfcc_features is None:\n",
        "        print(f\"❌ Gagal membaca file: {file_path}\")\n",
        "        return\n",
        "\n",
        "    # Ubah bentuk fitur agar sesuai dengan model (reshape menjadi 2D)\n",
        "    mfcc_features = mfcc_features.reshape(1, -1)\n",
        "\n",
        "    # Prediksi kelas\n",
        "    predicted_label = model.predict(mfcc_features)[0]\n",
        "\n",
        "    # Konversi dari angka ke nama label\n",
        "    predicted_class = label_encoder.inverse_transform([predicted_label])[0]\n",
        "\n",
        "    print(f\"✅ File: {file_path}\")\n",
        "    print(f\"🎯 Prediksi Kelas: {predicted_class}\")\n",
        "\n",
        "    return predicted_class\n"
      ],
      "metadata": {
        "id": "iLfwev3t3dEX"
      },
      "execution_count": null,
      "outputs": []
    },
    {
      "cell_type": "code",
      "source": [
        "import random\n",
        "\n",
        "# Pilih suara acak dari dataset untuk diuji\n",
        "random_folder = random.choice(os.listdir(base_dir))\n",
        "random_folder_path = os.path.join(base_dir, random_folder)\n",
        "\n",
        "# Ambil file wav acak dari folder\n",
        "random_file = random.choice(os.listdir(random_folder_path))\n",
        "random_file_path = os.path.join(random_folder_path, random_file)\n",
        "\n",
        "print(f\"🔍 File yang diuji: {random_file_path}\")\n"
      ],
      "metadata": {
        "colab": {
          "base_uri": "https://localhost:8080/"
        },
        "id": "Yymp3pjr3fi-",
        "outputId": "268fcd3f-8e31-43d8-dec4-b331cab2e4b6"
      },
      "execution_count": null,
      "outputs": [
        {
          "output_type": "stream",
          "name": "stdout",
          "text": [
            "🔍 File yang diuji: /content/drive/MyDrive/datasets/donateacry_corpus/hungry/a7b13b65-da2c-48ec-8aed-46adcaba705f-1430823489236-1.7-f-26-hu.wav\n"
          ]
        }
      ]
    },
    {
      "cell_type": "code",
      "source": [
        "print(\"\\n🔹 Prediksi dengan KNN:\")\n",
        "predict_audio(knn_model, random_file_path, label_encoder)\n",
        "\n",
        "print(\"\\n🔹 Prediksi dengan Naive Bayes:\")\n",
        "predict_audio(nb_model, random_file_path, label_encoder)\n",
        "\n",
        "print(\"\\n🔹 Prediksi dengan SVM:\")\n",
        "predict_audio(svm_model, random_file_path, label_encoder)\n"
      ],
      "metadata": {
        "colab": {
          "base_uri": "https://localhost:8080/",
          "height": 264
        },
        "id": "J-ohV4zO3hrY",
        "outputId": "1806afc1-572f-4906-df5b-49eb393a87a6"
      },
      "execution_count": null,
      "outputs": [
        {
          "output_type": "stream",
          "name": "stdout",
          "text": [
            "\n",
            "🔹 Prediksi dengan KNN:\n",
            "✅ File: /content/drive/MyDrive/datasets/donateacry_corpus/hungry/a7b13b65-da2c-48ec-8aed-46adcaba705f-1430823489236-1.7-f-26-hu.wav\n",
            "🎯 Prediksi Kelas: hungry\n",
            "\n",
            "🔹 Prediksi dengan Naive Bayes:\n",
            "✅ File: /content/drive/MyDrive/datasets/donateacry_corpus/hungry/a7b13b65-da2c-48ec-8aed-46adcaba705f-1430823489236-1.7-f-26-hu.wav\n",
            "🎯 Prediksi Kelas: hungry\n",
            "\n",
            "🔹 Prediksi dengan SVM:\n",
            "✅ File: /content/drive/MyDrive/datasets/donateacry_corpus/hungry/a7b13b65-da2c-48ec-8aed-46adcaba705f-1430823489236-1.7-f-26-hu.wav\n",
            "🎯 Prediksi Kelas: hungry\n"
          ]
        },
        {
          "output_type": "execute_result",
          "data": {
            "text/plain": [
              "'hungry'"
            ],
            "application/vnd.google.colaboratory.intrinsic+json": {
              "type": "string"
            }
          },
          "metadata": {},
          "execution_count": 29
        }
      ]
    },
    {
      "cell_type": "code",
      "source": [
        "import matplotlib.pyplot as plt\n",
        "import numpy as np\n",
        "\n",
        "# Misal, knn_metrics, nb_metrics, dan svm_metrics sudah dihitung dengan fungsi evaluate_model sebelumnya\n",
        "\n",
        "# Mengumpulkan metrik dari setiap model\n",
        "models = [\"KNN\", \"Naive Bayes\", \"SVM\"]\n",
        "recall_scores = [knn_metrics[\"Recall\"], nb_metrics[\"Recall\"], svm_metrics[\"Recall\"]]\n",
        "f1_scores = [knn_metrics[\"F1-Score\"], nb_metrics[\"F1-Score\"], svm_metrics[\"F1-Score\"]]\n",
        "\n",
        "# Menampilkan metrik di konsol\n",
        "print(\"Perbandingan Recall dan F1-Score untuk masing-masing model:\")\n",
        "for model, rec, f1 in zip(models, recall_scores, f1_scores):\n",
        "    print(f\"{model} => Recall: {rec:.2f}, F1-Score: {f1:.2f}\")\n",
        "\n",
        "# Visualisasi dalam bentuk grafik batang\n",
        "x = np.arange(len(models))  # label posisi untuk tiap model\n",
        "width = 0.35  # lebar batang\n",
        "\n",
        "fig, ax = plt.subplots(figsize=(8,6))\n",
        "rects1 = ax.bar(x - width/2, recall_scores, width, label='Recall')\n",
        "rects2 = ax.bar(x + width/2, f1_scores, width, label='F1-Score')\n",
        "\n",
        "# Tambahkan label, judul, dan keterangan sumbu\n",
        "ax.set_ylabel('Skor')\n",
        "ax.set_title('Perbandingan Recall dan F1-Score untuk Setiap Model')\n",
        "ax.set_xticks(x)\n",
        "ax.set_xticklabels(models)\n",
        "ax.legend()\n",
        "\n",
        "# Menambahkan nilai di atas tiap batang\n",
        "def add_labels(rects):\n",
        "    for rect in rects:\n",
        "        height = rect.get_height()\n",
        "        ax.annotate(f'{height:.2f}',\n",
        "                    xy=(rect.get_x() + rect.get_width() / 2, height),\n",
        "                    xytext=(0, 3),  # jarak 3 titik ke atas\n",
        "                    textcoords=\"offset points\",\n",
        "                    ha='center', va='bottom')\n",
        "\n",
        "add_labels(rects1)\n",
        "add_labels(rects2)\n",
        "\n",
        "fig.tight_layout()\n",
        "plt.show()\n"
      ],
      "metadata": {
        "colab": {
          "base_uri": "https://localhost:8080/",
          "height": 676
        },
        "id": "SIG4qHs64Q3I",
        "outputId": "e245741d-2ed8-4303-dc19-16b220cc3926"
      },
      "execution_count": null,
      "outputs": [
        {
          "output_type": "stream",
          "name": "stdout",
          "text": [
            "Perbandingan Recall dan F1-Score untuk masing-masing model:\n",
            "KNN => Recall: 0.33, F1-Score: 0.30\n",
            "Naive Bayes => Recall: 0.29, F1-Score: 0.25\n",
            "SVM => Recall: 0.19, F1-Score: 0.16\n"
          ]
        },
        {
          "output_type": "display_data",
          "data": {
            "text/plain": [
              "<Figure size 800x600 with 1 Axes>"
            ],
            "image/png": "[encoded data removed]"
          },
          "metadata": {}
        }
      ]
    },
    {
      "cell_type": "code",
      "source": [
        "def evaluate_model(model, X_test, y_test, class_names):\n",
        "    y_pred = model.predict(X_test)\n",
        "\n",
        "    acc = accuracy_score(y_test, y_pred)\n",
        "    precision = precision_score(y_test, y_pred, average=\"weighted\")\n",
        "    recall = recall_score(y_test, y_pred, average=\"weighted\")\n",
        "    f1 = f1_score(y_test, y_pred, average=\"weighted\")\n",
        "\n",
        "    cm = confusion_matrix(y_test, y_pred)\n",
        "    disp = ConfusionMatrixDisplay(confusion_matrix=cm, display_labels=class_names)\n",
        "    disp.plot(cmap=plt.cm.Blues, xticks_rotation=\"vertical\")\n",
        "    plt.title(\"Confusion Matrix\")\n",
        "    plt.show()\n",
        "\n",
        "    metrics = {\n",
        "        \"Accuracy\": acc,\n",
        "        \"Precision\": precision,\n",
        "        \"Recall\": recall,\n",
        "        \"F1-Score\": f1,\n",
        "        \"Confusion Matrix\": cm\n",
        "    }\n",
        "\n",
        "    print(f\"Accuracy: {acc:.2f}\")\n",
        "    print(f\"Precision: {precision:.2f}\")\n",
        "    print(f\"Recall: {recall:.2f}\")\n",
        "    print(f\"F1-Score: {f1:.2f}\")\n",
        "\n",
        "    return metrics\n"
      ],
      "metadata": {
        "id": "U04azfP79euG"
      },
      "execution_count": null,
      "outputs": []
    },
    {
      "cell_type": "code",
      "source": [
        "import os\n",
        "\n",
        "base_dir = \"/content/drive/MyDrive/datasets/donateacry_corpus\"\n",
        "class_files = {}\n",
        "\n",
        "# Mengiterasi semua file dalam base_dir\n",
        "for subdir, _, files in os.walk(base_dir):\n",
        "    for file in files:\n",
        "        if file.endswith(\".wav\"):\n",
        "            class_name = os.path.basename(subdir)\n",
        "            file_path = os.path.join(subdir, file)\n",
        "            if class_name not in class_files:\n",
        "                class_files[class_name] = []\n",
        "            class_files[class_name].append(file_path)\n",
        "\n",
        "# Menampilkan jumlah file dan daftar file per kelas\n",
        "for class_name, files in class_files.items():\n",
        "    print(f\"Class: {class_name} - {len(files)} file(s)\")\n",
        "    for f in files:\n",
        "        print(\"  \", f)\n",
        "    print(\"\\n\")\n"
      ],
      "metadata": {
        "id": "RyfJXqRIGZ2G",
        "outputId": "c1ec0717-b66a-476d-d080-47a219eacd9c",
        "colab": {
          "base_uri": "https://localhost:8080/"
        }
      },
      "execution_count": null,
      "outputs": [
        {
          "output_type": "stream",
          "name": "stdout",
          "text": [
            "Class: hungry - 382 file(s)\n",
            "   /content/drive/MyDrive/datasets/donateacry_corpus/hungry/22b43570-d440-475b-b2f1-e528c81081f7-1430663490095-1.7-m-04-hu.wav\n",
            "   /content/drive/MyDrive/datasets/donateacry_corpus/hungry/86c2b87a-ae7c-46a3-b6fb-7ebe748812cf-1430036593222-1.7-f-26-hu.wav\n",
            "   /content/drive/MyDrive/datasets/donateacry_corpus/hungry/F3BAEDDA-CDC0-4A65-90EE-5C372CEE4F3B-1437012044-1.1-m-26-hu.wav\n",
            "   /content/drive/MyDrive/datasets/donateacry_corpus/hungry/D1CB71F9-EF76-49B3-A703-41D557444D21-1436863366-1.1-m-04-hu.wav\n",
            "   /content/drive/MyDrive/datasets/donateacry_corpus/hungry/9090c7a3-bebc-4485-aafc-64e4298da3ac-1430088396663-1.7-f-26-hu.wav\n",
            "   /content/drive/MyDrive/datasets/donateacry_corpus/hungry/5C2F730C-9721-40B7-A2D8-C257DB518978-1429966336-1.0-m-04-hu.wav\n",
            "   /content/drive/MyDrive/datasets/donateacry_corpus/hungry/dc5429de-26b4-48e2-bc47-bc607b9bba06-1430741828918-1.7-f-72-hu.wav\n",
            "   /content/drive/MyDrive/datasets/donateacry_corpus/hungry/539FDD32-6326-422E-A707-FCF063D3426C-1437073534-1.1-f-26-hu.wav\n",
            "   /content/drive/MyDrive/datasets/donateacry_corpus/hungry/1f40790f-68f2-4e7e-845e-715bd97c82d0-1429979568422-1.7-m-04-hu.wav\n",
            "   /content/drive/MyDrive/datasets/donateacry_corpus/hungry/7b23d26e-6f97-4e8b-b520-a9fdde21ee91-1432275312750-1.7-m-48-hu.wav\n",
            "   /content/drive/MyDrive/datasets/donateacry_corpus/hungry/3030d0e9-0c9b-4616-9b83-f10dc2dedbfd-1430053456045-1.7-m-26-hu.wav\n",
            "   /content/drive/MyDrive/datasets/donateacry_corpus/hungry/5728DDD6-149B-412F-A14B-C29B9B5E415F-1432635069-1.0-m-26-hu.wav\n",
            "   /content/drive/MyDrive/datasets/donateacry_corpus/hungry/7b0e160e-0505-459e-8ecb-304d7afae9d2-1437486941311-1.7-m-04-hu.wav\n",
            "   /content/drive/MyDrive/datasets/donateacry_corpus/hungry/ed31b187-34af-4ff1-979c-3b8a5905fb7b-1430045366784-1.7-f-04-hu.wav\n",
            "   /content/drive/MyDrive/datasets/donateacry_corpus/hungry/40a4c760-facf-4911-b0a6-22eccc3ab18d-1430477717469-1.7-f-26-hu.wav\n",
            "   /content/drive/MyDrive/datasets/donateacry_corpus/hungry/bb2bdafb-0477-4be4-8c41-1a6192e8c6d4-1430637640279-1.7-m-72-hu.wav\n",
            "   /content/drive/MyDrive/datasets/donateacry_corpus/hungry/e1e640e2-78cb-4cb7-9ccc-93813bfc251c-1430738640598-1.7-m-72-hu.wav\n",
            "   /content/drive/MyDrive/datasets/donateacry_corpus/hungry/789d2553-cbf2-4911-91e4-fb228d231238-1430818517787-1.7-m-26-hu.wav\n",
            "   /content/drive/MyDrive/datasets/donateacry_corpus/hungry/8f4dbf5a-b504-4452-b6ac-94e646a6a052-1430727792958-1.7-f-72-hu.wav\n",
            "   /content/drive/MyDrive/datasets/donateacry_corpus/hungry/3bb2445a-9ae9-4dc8-9a2e-86c696ffa405-1430142784308-1.7-m-26-hu.wav\n",
            "   /content/drive/MyDrive/datasets/donateacry_corpus/hungry/efd13da0-d40e-48bc-b14e-dee28af4d3c6-1430728179252-1.7-m-22-hu.wav\n",
            "   /content/drive/MyDrive/datasets/donateacry_corpus/hungry/edb5924c-07ba-4eaa-838b-aaf9511a219b-1431899400326-1.7-m-48-hu.wav\n",
            "   /content/drive/MyDrive/datasets/donateacry_corpus/hungry/AA2CA7F6-4547-4CC0-AA4C-5D7B64727FB5-1437123487-1.1-f-26-hu.wav\n",
            "   /content/drive/MyDrive/datasets/donateacry_corpus/hungry/FF2CD2F6-404D-4626-8718-6E6C751F63B8-1431104337-1.0-m-04-hu.wav\n",
            "   /content/drive/MyDrive/datasets/donateacry_corpus/hungry/7E4B9C14-F955-4BED-9B03-7F3096A6CBFF-1430232180-1.0-f-26-hu.wav\n",
            "   /content/drive/MyDrive/datasets/donateacry_corpus/hungry/81724071-bc5e-4e38-8f35-85a691af5721-1430737552979-1.7-m-04-hu.wav\n",
            "   /content/drive/MyDrive/datasets/donateacry_corpus/hungry/96986c8b-9988-4c37-a0f8-e7c4269cc3ac-1431719845836-1.7-m-26-hu.wav\n",
            "   /content/drive/MyDrive/datasets/donateacry_corpus/hungry/c7fef089-4a65-4b75-bfd4-bae0e3518adf-1430754388848-1.7-m-04-hu.wav\n",
            "   /content/drive/MyDrive/datasets/donateacry_corpus/hungry/08E9485B-2772-444B-A636-77E14DD14A8C-1431493453-1.0-m-04-hu.wav\n",
            "   /content/drive/MyDrive/datasets/donateacry_corpus/hungry/AE02C934-F4E5-4C73-818D-56AA6887EC18-1430279441-1.0-m-26-hu.wav\n",
            "   /content/drive/MyDrive/datasets/donateacry_corpus/hungry/0F4B1065-4012-47C8-88B7-ACE11B1A536E-1430038775-1.0-m-04-hu.wav\n",
            "   /content/drive/MyDrive/datasets/donateacry_corpus/hungry/2439388A-9CF2-4D3B-9534-E6951FC9EAD4-1436877933-1.1-m-26-hu.wav\n",
            "   /content/drive/MyDrive/datasets/donateacry_corpus/hungry/11417AC2-DCC9-48CD-8177-CA8665E51B2F-1436881489-1.1-m-48-hu.wav\n",
            "   /content/drive/MyDrive/datasets/donateacry_corpus/hungry/bfbc4d23-39b2-4b33-b686-2f048f062b60-1430077722675-1.7-f-72-hu.wav\n",
            "   /content/drive/MyDrive/datasets/donateacry_corpus/hungry/4CD5903D-E2CE-401E-B898-D873C763F44B-1430727653-1.0-m-26-hu.wav\n",
            "   /content/drive/MyDrive/datasets/donateacry_corpus/hungry/999bf14b-e417-4b44-b746-9253f81efe38-1431013068243-1.7-m-26-hu.wav\n",
            "   /content/drive/MyDrive/datasets/donateacry_corpus/hungry/8c66887c-8251-49fa-903b-c02d56405f58-1436856065644-1.7-m-26-hu.wav\n",
            "   /content/drive/MyDrive/datasets/donateacry_corpus/hungry/B327333E-2DE2-4833-A75A-4C576208BED3-1430087429-1.0-f-48-hu.wav\n",
            "   /content/drive/MyDrive/datasets/donateacry_corpus/hungry/ad7fd28b-3e85-4e9b-9e18-af4bda64c60f-1430756389867-1.7-m-72-hu.wav\n",
            "   /content/drive/MyDrive/datasets/donateacry_corpus/hungry/40a4c760-facf-4911-b0a6-22eccc3ab18d-1430466393384-1.7-f-26-hu.wav\n",
            "   /content/drive/MyDrive/datasets/donateacry_corpus/hungry/9CFD61B9-BF13-406D-8B2F-F73CFAAF25CB-1430927741-1.0-f-04-hu.wav\n",
            "   /content/drive/MyDrive/datasets/donateacry_corpus/hungry/02c3b725-26e4-4a2c-9336-04ddc58836d9-1430726196216-1.7-m-04-hu.wav\n",
            "   /content/drive/MyDrive/datasets/donateacry_corpus/hungry/50DC5FBC-AC95-44F2-B55F-E4E5FB03AC96-1430007668-1.0-m-26-hu.wav\n",
            "   /content/drive/MyDrive/datasets/donateacry_corpus/hungry/7060a4f6-4c0c-494b-912c-ae60158b185a-1436931995150-1.7-f-04-hu.wav\n",
            "   /content/drive/MyDrive/datasets/donateacry_corpus/hungry/c10e2b0f-0cb8-4485-b82f-d453edf97db7-1430738986076-1.7-f-26-hu.wav\n",
            "   /content/drive/MyDrive/datasets/donateacry_corpus/hungry/5f651112-d2a3-4911-b3a5-f37bfc092494-1430734658837-1.7-m-72-hu.wav\n",
            "   /content/drive/MyDrive/datasets/donateacry_corpus/hungry/045C5483-69E1-4BEC-B1D8-9286D174B9B2-1430102996-1.0-m-04-hu.wav\n",
            "   /content/drive/MyDrive/datasets/donateacry_corpus/hungry/743E7CCA-D32B-40B6-9541-9808122D3F6B-1436860161-1.1-f-26-hu.wav\n",
            "   /content/drive/MyDrive/datasets/donateacry_corpus/hungry/31e785de-b0c9-464f-88e2-bd8f1dd5cda4-1433403682898-1.7-m-04-hu.wav\n",
            "   /content/drive/MyDrive/datasets/donateacry_corpus/hungry/743E7CCA-D32B-40B6-9541-9808122D3F6B-1436860028-1.1-f-26-hu.wav\n",
            "   /content/drive/MyDrive/datasets/donateacry_corpus/hungry/B2A105BB-347B-4878-A735-AA4ECF32CD16-1436864116-1.1-m-26-hu.wav\n",
            "   /content/drive/MyDrive/datasets/donateacry_corpus/hungry/A123AD65-38D3-4A65-AB37-330034765840-1430093726-1.0-m-04-hu.wav\n",
            "   /content/drive/MyDrive/datasets/donateacry_corpus/hungry/FF482278-24C9-4FB0-A7BE-FD92D1FE17B4-1430028319-1.0-m-26-hu.wav\n",
            "   /content/drive/MyDrive/datasets/donateacry_corpus/hungry/101c6709-39fb-44dc-b905-7cbeed5714a2-1434361963544-1.7-f-04-hu.wav\n",
            "   /content/drive/MyDrive/datasets/donateacry_corpus/hungry/89964233-cbdb-4f34-a819-5f4b5ce3f5f5-1430049868816-1.7-f-04-hu.wav\n",
            "   /content/drive/MyDrive/datasets/donateacry_corpus/hungry/DBA77EDC-D457-4B3A-83B8-B7AFBF272D4E-1436860486-1.1-m-72-hu.wav\n",
            "   /content/drive/MyDrive/datasets/donateacry_corpus/hungry/F3BAEDDA-CDC0-4A65-90EE-5C372CEE4F3B-1437012059-1.1-m-26-hu.wav\n",
            "   /content/drive/MyDrive/datasets/donateacry_corpus/hungry/3DF341FA-E90B-4335-A51A-A9B0769150CE-1436859277-1.1-m-04-hu.wav\n",
            "   /content/drive/MyDrive/datasets/donateacry_corpus/hungry/A123AD65-38D3-4A65-AB37-330034765840-1430093710-1.0-m-04-hu.wav\n",
            "   /content/drive/MyDrive/datasets/donateacry_corpus/hungry/40a4c760-facf-4911-b0a6-22eccc3ab18d-1430477756469-1.7-f-26-hu.wav\n",
            "   /content/drive/MyDrive/datasets/donateacry_corpus/hungry/3c0b4e07-33ec-4d68-a6b2-5f5dcb8cff8e-1430070829977-1.7-m-26-hu.wav\n",
            "   /content/drive/MyDrive/datasets/donateacry_corpus/hungry/F95D4BCE-2FB0-4A0C-A058-BFB0674539AF-1430055809-1.0-m-26-hu.wav\n",
            "   /content/drive/MyDrive/datasets/donateacry_corpus/hungry/40a4c760-facf-4911-b0a6-22eccc3ab18d-1430477780076-1.7-f-26-hu.wav\n",
            "   /content/drive/MyDrive/datasets/donateacry_corpus/hungry/4D43D6CD-C084-4081-ABF3-8B25951B2D75-1430146631-1.0-m-04-hu.wav\n",
            "   /content/drive/MyDrive/datasets/donateacry_corpus/hungry/376C006E-3664-4056-80D0-7661F631A062-1436930593-1.1-m-26-hu.wav\n",
            "   /content/drive/MyDrive/datasets/donateacry_corpus/hungry/aaa57dbd-7b88-454a-963e-6faa2f4ed4e7-1436982066128-1.7-f-04-hu.wav\n",
            "   /content/drive/MyDrive/datasets/donateacry_corpus/hungry/10A40438-09AA-4A21-83B4-8119F03F7A11-1430848070-1.0-f-26-hu.wav\n",
            "   /content/drive/MyDrive/datasets/donateacry_corpus/hungry/743E7CCA-D32B-40B6-9541-9808122D3F6B-1436860053-1.1-f-26-hu.wav\n",
            "   /content/drive/MyDrive/datasets/donateacry_corpus/hungry/6639C63C-F634-489C-91B3-E3DB5930EFD5-1431370257-1.1-m-04-hu.wav\n",
            "   /content/drive/MyDrive/datasets/donateacry_corpus/hungry/92d08bbe-553f-4844-85b1-15d572f06ea2-1436873211119-1.7-m-04-hu.wav\n",
            "   /content/drive/MyDrive/datasets/donateacry_corpus/hungry/10A40438-09AA-4A21-83B4-8119F03F7A11-1430925172-1.0-f-26-hu.wav\n",
            "   /content/drive/MyDrive/datasets/donateacry_corpus/hungry/a40b9b8d-e4bc-457a-badf-f38bdbc0c358-1430016779981-1.7-m-26-hu.wav\n",
            "   /content/drive/MyDrive/datasets/donateacry_corpus/hungry/b5044f9a-6f2e-44fc-8e04-9076a988acf2-1435544527174-1.7-m-04-hu.wav\n",
            "   /content/drive/MyDrive/datasets/donateacry_corpus/hungry/F95D4BCE-2FB0-4A0C-A058-BFB0674539AF-1430055800-1.0-m-26-hu.wav\n",
            "   /content/drive/MyDrive/datasets/donateacry_corpus/hungry/8f4dbf5a-b504-4452-b6ac-94e646a6a052-1430729451597-1.7-f-72-hu.wav\n",
            "   /content/drive/MyDrive/datasets/donateacry_corpus/hungry/D18A30C6-4370-4BE0-83F8-031892F96603-1432989796-1.1-f-04-hu.wav\n",
            "   /content/drive/MyDrive/datasets/donateacry_corpus/hungry/c6fd9d60-0fa7-44c0-b3ce-0192527d7b81-1430068155237-1.7-m-72-hu.wav\n",
            "   /content/drive/MyDrive/datasets/donateacry_corpus/hungry/5f0a1ed4-ee2c-493c-bc00-6b56aad78a72-1430933240505-1.7-m-72-hu.wav\n",
            "   /content/drive/MyDrive/datasets/donateacry_corpus/hungry/b9d0daab-43c8-41f1-86af-3bcdea9af63c-1429979961789-1.7-f-22-hu.wav\n",
            "   /content/drive/MyDrive/datasets/donateacry_corpus/hungry/3c51dedc-6e4c-47dd-a179-86a25e95f1ef-1430651019625-1.7-m-04-hu.wav\n",
            "   /content/drive/MyDrive/datasets/donateacry_corpus/hungry/9aa8bac5-eeb9-4f19-a4bf-7c439e87364b-1430745312460-1.7-m-04-hu.wav\n",
            "   /content/drive/MyDrive/datasets/donateacry_corpus/hungry/177dc72e-d0f8-47ef-a5a7-3b46878e11a0-1430736549614-1.7-f-26-hu.wav\n",
            "   /content/drive/MyDrive/datasets/donateacry_corpus/hungry/bb2bdafb-0477-4be4-8c41-1a6192e8c6d4-1430637663087-1.7-m-72-hu.wav\n",
            "   /content/drive/MyDrive/datasets/donateacry_corpus/hungry/3bb2445a-9ae9-4dc8-9a2e-86c696ffa405-1430142760958-1.7-m-26-hu.wav\n",
            "   /content/drive/MyDrive/datasets/donateacry_corpus/hungry/21c07aff-0a8d-4e74-ad5e-e3c7f7bcb11b-1430105653796-1.7-m-04-hu.wav\n",
            "   /content/drive/MyDrive/datasets/donateacry_corpus/hungry/2e25d0a5-0b2b-44ef-8491-e445b16ea75c-1430056332640-1.7-f-26-hu.wav\n",
            "   /content/drive/MyDrive/datasets/donateacry_corpus/hungry/2a0e6a88-b049-4f46-a3d6-d73ffae470d5-1430770144865-1.7-m-04-hu.wav\n",
            "   /content/drive/MyDrive/datasets/donateacry_corpus/hungry/218e6fd7-f9c5-4490-afd7-c4fba174e7d2-1430209174300-1.7-m-72-hu.wav\n",
            "   /content/drive/MyDrive/datasets/donateacry_corpus/hungry/B327333E-2DE2-4833-A75A-4C576208BED3-1430087443-1.0-f-48-hu.wav\n",
            "   /content/drive/MyDrive/datasets/donateacry_corpus/hungry/ae5a462b-5424-4b5b-82d5-07ccb61654ab-1430405436291-1.7-f-04-hu.wav\n",
            "   /content/drive/MyDrive/datasets/donateacry_corpus/hungry/ae5f103b-5fee-442f-bb1b-d9d0570c46ab-1431533809819-1.7-m-26-hu.wav\n",
            "   /content/drive/MyDrive/datasets/donateacry_corpus/hungry/9fe37482-6a64-401d-b8b9-3e47d6ed9ac0-1430047399844-1.7-f-26-hu.wav\n",
            "   /content/drive/MyDrive/datasets/donateacry_corpus/hungry/3bb2445a-9ae9-4dc8-9a2e-86c696ffa405-1430146536552-1.7-m-26-hu.wav\n",
            "   /content/drive/MyDrive/datasets/donateacry_corpus/hungry/7d1c2cd2-6fa1-499f-8ca8-a298198be4e7-1436850081753-1.7-m-04-hu.wav\n",
            "   /content/drive/MyDrive/datasets/donateacry_corpus/hungry/c6fd9d60-0fa7-44c0-b3ce-0192527d7b81-1430066825817-1.7-m-72-hu.wav\n",
            "   /content/drive/MyDrive/datasets/donateacry_corpus/hungry/C249BCDD-0F65-4D6A-82BE-43C4006E3DDB-1436891733-1.1-m-72-hu.wav\n",
            "   /content/drive/MyDrive/datasets/donateacry_corpus/hungry/80130d3a-ceb9-4460-8464-e956bac5c40d-1436850034856-1.7-m-72-hu.wav\n",
            "   /content/drive/MyDrive/datasets/donateacry_corpus/hungry/10A40438-09AA-4A21-83B4-8119F03F7A11-1430848060-1.0-f-26-hu.wav\n",
            "   /content/drive/MyDrive/datasets/donateacry_corpus/hungry/ca7d8d54-13cb-4060-8db4-90651b60c078-1434674769219-1.7-f-26-hu.wav\n",
            "   /content/drive/MyDrive/datasets/donateacry_corpus/hungry/10A40438-09AA-4A21-83B4-8119F03F7A11-1430848034-1.0-f-26-hu.wav\n",
            "   /content/drive/MyDrive/datasets/donateacry_corpus/hungry/89964233-cbdb-4f34-a819-5f4b5ce3f5f5-1430049852345-1.7-f-04-hu.wav\n",
            "   /content/drive/MyDrive/datasets/donateacry_corpus/hungry/edb5924c-07ba-4eaa-838b-aaf9511a219b-1431894189631-1.7-m-48-hu.wav\n",
            "   /content/drive/MyDrive/datasets/donateacry_corpus/hungry/F4A65A98-ADEE-49C4-9B45-65A8429DF170-1430232330-1.0-m-72-hu.wav\n",
            "   /content/drive/MyDrive/datasets/donateacry_corpus/hungry/03abcb8f-400a-47d8-ad82-7e4586cc06be-1431864192133-1.7-f-48-hu.wav\n",
            "   /content/drive/MyDrive/datasets/donateacry_corpus/hungry/52dfc27a-fbc4-4d9f-bbcf-6406c919324a-1430041644396-1.7-m-26-hu.wav\n",
            "   /content/drive/MyDrive/datasets/donateacry_corpus/hungry/80f5ab0a-16c1-4738-9209-fbdae52ff769-1430140636917-1.7-f-04-hu.wav\n",
            "   /content/drive/MyDrive/datasets/donateacry_corpus/hungry/B327333E-2DE2-4833-A75A-4C576208BED3-1430087456-1.0-f-48-hu.wav\n",
            "   /content/drive/MyDrive/datasets/donateacry_corpus/hungry/7e3de9b8-2be5-473f-b8c3-c2657f1317bb-1430006339251-1.7-f-04-hu.wav\n",
            "   /content/drive/MyDrive/datasets/donateacry_corpus/hungry/FF2CD2F6-404D-4626-8718-6E6C751F63B8-1431104360-1.0-m-04-hu.wav\n",
            "   /content/drive/MyDrive/datasets/donateacry_corpus/hungry/9090c7a3-bebc-4485-aafc-64e4298da3ac-1430109146143-1.7-f-26-hu.wav\n",
            "   /content/drive/MyDrive/datasets/donateacry_corpus/hungry/9aa8bac5-eeb9-4f19-a4bf-7c439e87364b-1430745385374-1.7-m-04-hu.wav\n",
            "   /content/drive/MyDrive/datasets/donateacry_corpus/hungry/7A22229D-06C2-4AAA-9674-DE5DF1906B3A-1436891933-1.1-m-72-hu.wav\n",
            "   /content/drive/MyDrive/datasets/donateacry_corpus/hungry/70d30513-0ec3-49e4-9976-e85785e85c2d-1431033390358-1.7-m-04-hu.wav\n",
            "   /content/drive/MyDrive/datasets/donateacry_corpus/hungry/3DF341FA-E90B-4335-A51A-A9B0769150CE-1436859328-1.1-m-04-hu.wav\n",
            "   /content/drive/MyDrive/datasets/donateacry_corpus/hungry/090C15A8-5406-4EA5-97A3-81F6527227C0-1430147582-1.0-m-72-hu.wav\n",
            "   /content/drive/MyDrive/datasets/donateacry_corpus/hungry/FAE74A94-9968-43ED-958C-50D7C4C1F13C-1430770858-1.0-f-22-hu.wav\n",
            "   /content/drive/MyDrive/datasets/donateacry_corpus/hungry/F6C6D3EE-F139-48A4-9EAC-0A50EB011CDC-1430103957-1.0-m-04-hu.wav\n",
            "   /content/drive/MyDrive/datasets/donateacry_corpus/hungry/E2C4BCE0-99FD-49EC-8AB1-5EA5DF7DD8C5-1430042952-1.0-m-04-hu.wav\n",
            "   /content/drive/MyDrive/datasets/donateacry_corpus/hungry/8c920fd0-fa9f-4926-bcac-074767dcbfcd-1436850948195-1.7-m-04-hu.wav\n",
            "   /content/drive/MyDrive/datasets/donateacry_corpus/hungry/50DC5FBC-AC95-44F2-B55F-E4E5FB03AC96-1430108024-1.0-m-26-hu.wav\n",
            "   /content/drive/MyDrive/datasets/donateacry_corpus/hungry/cda99fcf-d010-47b4-8987-f54be313ddbd-1429973787766-1.7-f-26-hu.wav\n",
            "   /content/drive/MyDrive/datasets/donateacry_corpus/hungry/8c920fd0-fa9f-4926-bcac-074767dcbfcd-1436856382717-1.7-m-04-hu.wav\n",
            "   /content/drive/MyDrive/datasets/donateacry_corpus/hungry/1b381a1e-88a6-4a48-b889-a5ccdf0aacaf-1430299568333-1.7-f-72-hu.wav\n",
            "   /content/drive/MyDrive/datasets/donateacry_corpus/hungry/5afc6a14-a9d8-45f8-b31d-c79dd87cc8c6-1430757081034-1.7-m-48-hu.wav\n",
            "   /content/drive/MyDrive/datasets/donateacry_corpus/hungry/C421C6FE-DFEE-4080-8AEA-848E7CE4756B-1430548277-1.0-f-26-hu.wav\n",
            "   /content/drive/MyDrive/datasets/donateacry_corpus/hungry/602b06a7-31f0-4370-b35a-9cc81d205958-1430907796431-1.7-f-72-hu.wav\n",
            "   /content/drive/MyDrive/datasets/donateacry_corpus/hungry/7b23d26e-6f97-4e8b-b520-a9fdde21ee91-1432261716253-1.7-m-48-hu.wav\n",
            "   /content/drive/MyDrive/datasets/donateacry_corpus/hungry/F6C6D3EE-F139-48A4-9EAC-0A50EB011CDC-1430103974-1.0-m-04-hu.wav\n",
            "   /content/drive/MyDrive/datasets/donateacry_corpus/hungry/5C2F730C-9721-40B7-A2D8-C257DB518978-1429966327-1.0-m-04-hu.wav\n",
            "   /content/drive/MyDrive/datasets/donateacry_corpus/hungry/719bb382-a592-46b7-82d2-8b4a625263b7-1430376267895-1.7-m-48-hu.wav\n",
            "   /content/drive/MyDrive/datasets/donateacry_corpus/hungry/70d30513-0ec3-49e4-9976-e85785e85c2d-1431033405793-1.7-m-04-hu.wav\n",
            "   /content/drive/MyDrive/datasets/donateacry_corpus/hungry/9CFD61B9-BF13-406D-8B2F-F73CFAAF25CB-1430927728-1.0-f-04-hu.wav\n",
            "   /content/drive/MyDrive/datasets/donateacry_corpus/hungry/92d08bbe-553f-4844-85b1-15d572f06ea2-1436873183951-1.7-m-04-hu.wav\n",
            "   /content/drive/MyDrive/datasets/donateacry_corpus/hungry/1abb2260-a652-4ba7-bd98-7d463312730f-1430041727150-1.7-m-04-hu.wav\n",
            "   /content/drive/MyDrive/datasets/donateacry_corpus/hungry/653bf718-94bd-40d0-af7c-8fe44e07640c-1430759214066-1.7-m-04-hu.wav\n",
            "   /content/drive/MyDrive/datasets/donateacry_corpus/hungry/2ad6d558-32f2-4bfd-99c5-cbd31ee3bb11-1430064396119-1.7-m-72-hu.wav\n",
            "   /content/drive/MyDrive/datasets/donateacry_corpus/hungry/602b06a7-31f0-4370-b35a-9cc81d205958-1430739609286-1.7-f-72-hu.wav\n",
            "   /content/drive/MyDrive/datasets/donateacry_corpus/hungry/e0717ce2-da25-417c-89a5-58d7175f4a6d-1436966513203-1.7-m-26-hu.wav\n",
            "   /content/drive/MyDrive/datasets/donateacry_corpus/hungry/0D1AD73E-4C5E-45F3-85C4-9A3CB71E8856-1430742197-1.0-m-04-hu.wav\n",
            "   /content/drive/MyDrive/datasets/donateacry_corpus/hungry/d6cda191-4962-4308-9a36-46d5648a95ed-1430640304482-1.7-m-04-hu.wav\n",
            "   /content/drive/MyDrive/datasets/donateacry_corpus/hungry/f896b69d-6241-4b51-9c45-0d628bc827c1-1430090255303-1.7-m-04-hu.wav\n",
            "   /content/drive/MyDrive/datasets/donateacry_corpus/hungry/3bb2445a-9ae9-4dc8-9a2e-86c696ffa405-1430123758633-1.7-m-26-hu.wav\n",
            "   /content/drive/MyDrive/datasets/donateacry_corpus/hungry/8FDA58A7-FDC6-4421-855F-738E6E853E43-1429895751-1.0-m-26-hu.wav\n",
            "   /content/drive/MyDrive/datasets/donateacry_corpus/hungry/323cab80-2551-4a46-8c3d-62c7a5264afa-1430382588301-1.7-m-22-hu.wav\n",
            "   /content/drive/MyDrive/datasets/donateacry_corpus/hungry/D833237F-1F7C-4338-BEDE-84C0CF5F4145-1430083995-1.0-f-26-hu.wav\n",
            "   /content/drive/MyDrive/datasets/donateacry_corpus/hungry/8f4dbf5a-b504-4452-b6ac-94e646a6a052-1430735028906-1.7-f-72-hu.wav\n",
            "   /content/drive/MyDrive/datasets/donateacry_corpus/hungry/69374818-7b73-48ac-8200-e6a225e293fb-1430746080630-1.7-m-04-hu.wav\n",
            "   /content/drive/MyDrive/datasets/donateacry_corpus/hungry/EC2E1160-BC33-450A-A62D-DE2A4C0D42BB-1430039051-1.0-f-48-hu.wav\n",
            "   /content/drive/MyDrive/datasets/donateacry_corpus/hungry/40a4c760-facf-4911-b0a6-22eccc3ab18d-1430466176951-1.7-f-26-hu.wav\n",
            "   /content/drive/MyDrive/datasets/donateacry_corpus/hungry/DCB33551-F9BA-4B4A-8DA1-A3107E1AD859-1430406495-1.0-m-04-hu.wav\n",
            "   /content/drive/MyDrive/datasets/donateacry_corpus/hungry/4be720ce-a5e5-4a48-930f-a212f8a239f6-1434774932733-1.7-f-48-hu.wav\n",
            "   /content/drive/MyDrive/datasets/donateacry_corpus/hungry/2EE636FB-BD76-4118-A0EF-82FAFC32301F-1436586600-1.1-f-04-hu.wav\n",
            "   /content/drive/MyDrive/datasets/donateacry_corpus/hungry/9CFD61B9-BF13-406D-8B2F-F73CFAAF25CB-1430927693-1.0-f-04-hu.wav\n",
            "   /content/drive/MyDrive/datasets/donateacry_corpus/hungry/2a0e6a88-b049-4f46-a3d6-d73ffae470d5-1430770161530-1.7-m-04-hu.wav\n",
            "   /content/drive/MyDrive/datasets/donateacry_corpus/hungry/19aae3d1-51c6-4ffb-aeb8-efb6ae7ba83e-1436861395462-1.7-m-48-hu.wav\n",
            "   /content/drive/MyDrive/datasets/donateacry_corpus/hungry/ed31b187-34af-4ff1-979c-3b8a5905fb7b-1430044808480-1.7-m-04-hu.wav\n",
            "   /content/drive/MyDrive/datasets/donateacry_corpus/hungry/20E2B5A0-40A4-4FD8-8935-AFD1DB833510-1430127670-1.0-m-26-hu.wav\n",
            "   /content/drive/MyDrive/datasets/donateacry_corpus/hungry/8c2a1f03-07f4-4aee-a73f-bc57beb2b600-1430761324670-1.7-f-26-hu.wav\n",
            "   /content/drive/MyDrive/datasets/donateacry_corpus/hungry/aaa57dbd-7b88-454a-963e-6faa2f4ed4e7-1436982098411-1.7-f-04-hu.wav\n",
            "   /content/drive/MyDrive/datasets/donateacry_corpus/hungry/af30880e-5f98-4dc0-b37a-be6b21fa0ba3-1431240037389-1.7-m-26-hu.wav\n",
            "   /content/drive/MyDrive/datasets/donateacry_corpus/hungry/c42e76b9-a4c1-48f6-a91d-27ab83015874-1430737177322-1.7-f-72-hu.wav\n",
            "   /content/drive/MyDrive/datasets/donateacry_corpus/hungry/6bd76f21-f279-4c46-9453-58c95e7b2475-1430767927715-1.7-m-72-hu.wav\n",
            "   /content/drive/MyDrive/datasets/donateacry_corpus/hungry/D833237F-1F7C-4338-BEDE-84C0CF5F4145-1430084007-1.0-f-26-hu.wav\n",
            "   /content/drive/MyDrive/datasets/donateacry_corpus/hungry/990DE219-FCD1-4634-91CE-19AB93E5D2B0-1430214575-1.0-m-04-hu.wav\n",
            "   /content/drive/MyDrive/datasets/donateacry_corpus/hungry/a40b9b8d-e4bc-457a-badf-f38bdbc0c358-1430016745385-1.7-m-04-hu.wav\n",
            "   /content/drive/MyDrive/datasets/donateacry_corpus/hungry/F4A0C710-AC2D-42E0-8EA9-3E4CAC31EE20-1430318390-1.0-m-04-hu.wav\n",
            "   /content/drive/MyDrive/datasets/donateacry_corpus/hungry/afa44e7f-4187-4f1c-9437-b49ba75f542e-1430629785235-1.7-f-04-hu.wav\n",
            "   /content/drive/MyDrive/datasets/donateacry_corpus/hungry/24f2a4e1-7161-42a3-a2a2-a29a2422c0b8-1430814730789-1.7-f-26-hu.wav\n",
            "   /content/drive/MyDrive/datasets/donateacry_corpus/hungry/bb2bdafb-0477-4be4-8c41-1a6192e8c6d4-1430637736064-1.7-m-72-hu.wav\n",
            "   /content/drive/MyDrive/datasets/donateacry_corpus/hungry/c10e2b0f-0cb8-4485-b82f-d453edf97db7-1430739158854-1.7-f-26-hu.wav\n",
            "   /content/drive/MyDrive/datasets/donateacry_corpus/hungry/B0D9116D-8FA4-41AF-B626-BE508FD5CA04-1430832542-1.0-m-04-hu.wav\n",
            "   /content/drive/MyDrive/datasets/donateacry_corpus/hungry/999bf14b-e417-4b44-b746-9253f81efe38-1430972705879-1.7-m-26-hu.wav\n",
            "   /content/drive/MyDrive/datasets/donateacry_corpus/hungry/AE02C934-F4E5-4C73-818D-56AA6887EC18-1430279454-1.0-m-26-hu.wav\n",
            "   /content/drive/MyDrive/datasets/donateacry_corpus/hungry/adb53808-8b13-4c08-b055-6653c75298be-1430133962749-1.7-m-72-hu.wav\n",
            "   /content/drive/MyDrive/datasets/donateacry_corpus/hungry/aaa57dbd-7b88-454a-963e-6faa2f4ed4e7-1436910225455-1.7-f-04-hu.wav\n",
            "   /content/drive/MyDrive/datasets/donateacry_corpus/hungry/218e6fd7-f9c5-4490-afd7-c4fba174e7d2-1430209252819-1.7-m-72-hu.wav\n",
            "   /content/drive/MyDrive/datasets/donateacry_corpus/hungry/cde108d0-62c3-47f8-82c4-233c9fba5cdd-1436884406827-1.7-m-48-hu.wav\n",
            "   /content/drive/MyDrive/datasets/donateacry_corpus/hungry/0f257dac-7d6f-4575-9192-e3b4dcd3d4ef-1430185441581-1.7-f-26-hu.wav\n",
            "   /content/drive/MyDrive/datasets/donateacry_corpus/hungry/8f4dbf5a-b504-4452-b6ac-94e646a6a052-1430727806162-1.7-f-72-hu.wav\n",
            "   /content/drive/MyDrive/datasets/donateacry_corpus/hungry/3d3e244d-20b1-4ec3-9732-92dcd14ff35a-1436961241219-1.7-m-72-hu.wav\n",
            "   /content/drive/MyDrive/datasets/donateacry_corpus/hungry/cecd525b-18fd-49e3-b2b9-dfb08b93ad95-1430109958636-1.7-m-26-hu.wav\n",
            "   /content/drive/MyDrive/datasets/donateacry_corpus/hungry/d6cda191-4962-4308-9a36-46d5648a95ed-1428333797380-1.5-f-26-hu.wav\n",
            "   /content/drive/MyDrive/datasets/donateacry_corpus/hungry/3030d0e9-0c9b-4616-9b83-f10dc2dedbfd-1430053464739-1.7-m-26-hu.wav\n",
            "   /content/drive/MyDrive/datasets/donateacry_corpus/hungry/8FDA58A7-FDC6-4421-855F-738E6E853E43-1429895780-1.0-m-26-hu.wav\n",
            "   /content/drive/MyDrive/datasets/donateacry_corpus/hungry/8b1faa77-e3ac-48af-bf2a-58aadebefcba-1436798541805-1.7-m-04-hu.wav\n",
            "   /content/drive/MyDrive/datasets/donateacry_corpus/hungry/64acb345-a61e-4ef3-a5a6-cf83c04b83f1-1430058973897-1.7-m-72-hu.wav\n",
            "   /content/drive/MyDrive/datasets/donateacry_corpus/hungry/7CF37029-1040-40B8-ACC9-7E6E5C03AF9B-1429808939-1.0-m-72-hu.wav\n",
            "   /content/drive/MyDrive/datasets/donateacry_corpus/hungry/50DC5FBC-AC95-44F2-B55F-E4E5FB03AC96-1430007691-1.0-m-26-hu.wav\n",
            "   /content/drive/MyDrive/datasets/donateacry_corpus/hungry/adb53808-8b13-4c08-b055-6653c75298be-1430133982281-1.7-m-72-hu.wav\n",
            "   /content/drive/MyDrive/datasets/donateacry_corpus/hungry/8057932d-a6af-4d63-903b-37049686e176-1430919675907-1.7-f-72-hu.wav\n",
            "   /content/drive/MyDrive/datasets/donateacry_corpus/hungry/FF2CD2F6-404D-4626-8718-6E6C751F63B8-1431104396-1.0-m-04-hu.wav\n",
            "   /content/drive/MyDrive/datasets/donateacry_corpus/hungry/c10e2b0f-0cb8-4485-b82f-d453edf97db7-1430739179429-1.7-f-26-hu.wav\n",
            "   /content/drive/MyDrive/datasets/donateacry_corpus/hungry/6639C63C-F634-489C-91B3-E3DB5930EFD5-1431370278-1.1-m-04-hu.wav\n",
            "   /content/drive/MyDrive/datasets/donateacry_corpus/hungry/459c3f85-5710-4efa-bcc9-8012aa1af55e-1430034880215-1.7-f-48-hu.wav\n",
            "   /content/drive/MyDrive/datasets/donateacry_corpus/hungry/46002244-7304-45DC-BF69-B6EC2BB25009-1436902364-1.1-f-48-hu.wav\n",
            "   /content/drive/MyDrive/datasets/donateacry_corpus/hungry/415d69b4-6d84-4bf8-97b0-10f8f108dc1d-1430739498797-1.7-m-04-hu.wav\n",
            "   /content/drive/MyDrive/datasets/donateacry_corpus/hungry/86c2b87a-ae7c-46a3-b6fb-7ebe748812cf-1430036562389-1.7-m-04-hu.wav\n",
            "   /content/drive/MyDrive/datasets/donateacry_corpus/hungry/F24DE44B-762C-4149-AC92-96A5E57ED118-1430816936-1.0-m-04-hu.wav\n",
            "   /content/drive/MyDrive/datasets/donateacry_corpus/hungry/64acb345-a61e-4ef3-a5a6-cf83c04b83f1-1430045478300-1.7-m-72-hu.wav\n",
            "   /content/drive/MyDrive/datasets/donateacry_corpus/hungry/70d30513-0ec3-49e4-9976-e85785e85c2d-1431033372810-1.7-m-04-hu.wav\n",
            "   /content/drive/MyDrive/datasets/donateacry_corpus/hungry/aaa57dbd-7b88-454a-963e-6faa2f4ed4e7-1436910235521-1.7-f-04-hu.wav\n",
            "   /content/drive/MyDrive/datasets/donateacry_corpus/hungry/A123AD65-38D3-4A65-AB37-330034765840-1430093687-1.0-m-04-hu.wav\n",
            "   /content/drive/MyDrive/datasets/donateacry_corpus/hungry/1309B82C-F146-46F0-A723-45345AFA6EA8-1430059849-1.0-f-04-hu.wav\n",
            "   /content/drive/MyDrive/datasets/donateacry_corpus/hungry/42ec6f14-6ba6-457f-8a80-101ee201195c-1431345009828-1.7-m-22-hu.wav\n",
            "   /content/drive/MyDrive/datasets/donateacry_corpus/hungry/8f4dbf5a-b504-4452-b6ac-94e646a6a052-1430735157938-1.7-f-72-hu.wav\n",
            "   /content/drive/MyDrive/datasets/donateacry_corpus/hungry/1259bcad-2308-46fa-9a36-b5d8f359886a-1430143617162-1.7-m-04-hu.wav\n",
            "   /content/drive/MyDrive/datasets/donateacry_corpus/hungry/1f40790f-68f2-4e7e-845e-715bd97c82d0-1429979603276-1.7-m-72-hu.wav\n",
            "   /content/drive/MyDrive/datasets/donateacry_corpus/hungry/a56e2494-d2b2-480e-af0b-de9ea8f33572-1436897427825-1.7-f-26-hu.wav\n",
            "   /content/drive/MyDrive/datasets/donateacry_corpus/hungry/aaa57dbd-7b88-454a-963e-6faa2f4ed4e7-1436982075169-1.7-f-04-hu.wav\n",
            "   /content/drive/MyDrive/datasets/donateacry_corpus/hungry/0776b33b-c41a-4a2e-8b9c-f1c184be00c8-1437123838264-1.7-f-26-hu.wav\n",
            "   /content/drive/MyDrive/datasets/donateacry_corpus/hungry/10A40438-09AA-4A21-83B4-8119F03F7A11-1430848101-1.0-f-26-hu.wav\n",
            "   /content/drive/MyDrive/datasets/donateacry_corpus/hungry/9641D2D5-7D9F-41B2-8345-229AE9555FEC-1430022546-1.0-m-72-hu.wav\n",
            "   /content/drive/MyDrive/datasets/donateacry_corpus/hungry/090C15A8-5406-4EA5-97A3-81F6527227C0-1430147525-1.0-m-72-hu.wav\n",
            "   /content/drive/MyDrive/datasets/donateacry_corpus/hungry/40a4c760-facf-4911-b0a6-22eccc3ab18d-1430477726097-1.7-f-26-hu.wav\n",
            "   /content/drive/MyDrive/datasets/donateacry_corpus/hungry/37105492-58b1-432e-a1ce-ea154425abab-1430744728397-1.7-f-26-hu.wav\n",
            "   /content/drive/MyDrive/datasets/donateacry_corpus/hungry/2562ad82-485a-44c2-ad25-f70fce71480b-1430045593479-1.7-m-72-hu.wav\n",
            "   /content/drive/MyDrive/datasets/donateacry_corpus/hungry/FF2CD2F6-404D-4626-8718-6E6C751F63B8-1431104346-1.0-m-04-hu.wav\n",
            "   /content/drive/MyDrive/datasets/donateacry_corpus/hungry/c6fd9d60-0fa7-44c0-b3ce-0192527d7b81-1430068167526-1.7-m-72-hu.wav\n",
            "   /content/drive/MyDrive/datasets/donateacry_corpus/hungry/aaa57dbd-7b88-454a-963e-6faa2f4ed4e7-1437166513710-1.7-f-04-hu.wav\n",
            "   /content/drive/MyDrive/datasets/donateacry_corpus/hungry/C249BCDD-0F65-4D6A-82BE-43C4006E3DDB-1436891742-1.1-m-72-hu.wav\n",
            "   /content/drive/MyDrive/datasets/donateacry_corpus/hungry/2e25d0a5-0b2b-44ef-8491-e445b16ea75c-1430056314272-1.7-f-26-hu.wav\n",
            "   /content/drive/MyDrive/datasets/donateacry_corpus/hungry/f896b69d-6241-4b51-9c45-0d628bc827c1-1430090400166-1.7-m-72-hu.wav\n",
            "   /content/drive/MyDrive/datasets/donateacry_corpus/hungry/36f1b3ec-3d2a-470e-af6f-0a8cc11b2723-1430237012976-1.7-m-04-hu.wav\n",
            "   /content/drive/MyDrive/datasets/donateacry_corpus/hungry/602b06a7-31f0-4370-b35a-9cc81d205958-1430739585531-1.7-m-04-hu.wav\n",
            "   /content/drive/MyDrive/datasets/donateacry_corpus/hungry/177dc72e-d0f8-47ef-a5a7-3b46878e11a0-1430736533767-1.7-f-26-hu.wav\n",
            "   /content/drive/MyDrive/datasets/donateacry_corpus/hungry/2602b7c2-e96d-42f6-9767-f1ae74925ef8-1431376228657-1.7-f-22-hu.wav\n",
            "   /content/drive/MyDrive/datasets/donateacry_corpus/hungry/653bf718-94bd-40d0-af7c-8fe44e07640c-1430759231913-1.7-m-04-hu.wav\n",
            "   /content/drive/MyDrive/datasets/donateacry_corpus/hungry/7fd72d70-07c4-40a0-85e9-c91df9bdefb2-1430994916704-1.7-f-04-hu.wav\n",
            "   /content/drive/MyDrive/datasets/donateacry_corpus/hungry/8f5c01dc-6826-4076-a831-027ad61afdaf-1435873509176-1.7-f-26-hu.wav\n",
            "   /content/drive/MyDrive/datasets/donateacry_corpus/hungry/86c2b87a-ae7c-46a3-b6fb-7ebe748812cf-1430036547966-1.7-m-04-hu.wav\n",
            "   /content/drive/MyDrive/datasets/donateacry_corpus/hungry/F2F97740-D638-4B6F-9E09-3AC65F06B448-1436849313-1.1-f-48-hu.wav\n",
            "   /content/drive/MyDrive/datasets/donateacry_corpus/hungry/8f4dbf5a-b504-4452-b6ac-94e646a6a052-1430734962301-1.7-f-72-hu.wav\n",
            "   /content/drive/MyDrive/datasets/donateacry_corpus/hungry/02ead89b-aa02-453e-8b83-6ebde9fe7551-1430233132879-1.7-m-26-hu.wav\n",
            "   /content/drive/MyDrive/datasets/donateacry_corpus/hungry/67414C5E-0EB2-48FD-8391-FCF085FDB6D9-1430050964-1.0-m-04-hu.wav\n",
            "   /content/drive/MyDrive/datasets/donateacry_corpus/hungry/D1CB71F9-EF76-49B3-A703-41D557444D21-1436863375-1.1-m-04-hu.wav\n",
            "   /content/drive/MyDrive/datasets/donateacry_corpus/hungry/5728DDD6-149B-412F-A14B-C29B9B5E415F-1432635035-1.0-m-26-hu.wav\n",
            "   /content/drive/MyDrive/datasets/donateacry_corpus/hungry/be21ef2a-a415-4e8b-bfe6-731bf9956e2c-1431320909516-1.7-f-26-hu.wav\n",
            "   /content/drive/MyDrive/datasets/donateacry_corpus/hungry/7B924575-21FC-462A-969E-BABB46D1CBF5-1430055234-1.0-f-72-hu.wav\n",
            "   /content/drive/MyDrive/datasets/donateacry_corpus/hungry/3030d0e9-0c9b-4616-9b83-f10dc2dedbfd-1430326171876-1.7-m-26-hu.wav\n",
            "   /content/drive/MyDrive/datasets/donateacry_corpus/hungry/e37c323c-0edb-4942-be47-3cc0b2de00a1-1434392919844-1.7-f-26-hu.wav\n",
            "   /content/drive/MyDrive/datasets/donateacry_corpus/hungry/F3BAEDDA-CDC0-4A65-90EE-5C372CEE4F3B-1437012076-1.1-f-26-hu.wav\n",
            "   /content/drive/MyDrive/datasets/donateacry_corpus/hungry/DCB33551-F9BA-4B4A-8DA1-A3107E1AD859-1430406483-1.0-m-04-hu.wav\n",
            "   /content/drive/MyDrive/datasets/donateacry_corpus/hungry/815af07e-4c31-4032-8bd1-dab6e60c879e-1433156413683-1.7-m-04-hu.wav\n",
            "   /content/drive/MyDrive/datasets/donateacry_corpus/hungry/F24DE44B-762C-4149-AC92-96A5E57ED118-1430816918-1.0-m-04-hu.wav\n",
            "   /content/drive/MyDrive/datasets/donateacry_corpus/hungry/40a4c760-facf-4911-b0a6-22eccc3ab18d-1430477691332-1.7-f-26-hu.wav\n",
            "   /content/drive/MyDrive/datasets/donateacry_corpus/hungry/549a46d8-9c84-430e-ade8-97eae2bef787-1430130669340-1.7-m-48-hu.wav\n",
            "   /content/drive/MyDrive/datasets/donateacry_corpus/hungry/090C15A8-5406-4EA5-97A3-81F6527227C0-1430147533-1.0-m-72-hu.wav\n",
            "   /content/drive/MyDrive/datasets/donateacry_corpus/hungry/CC8771B1-C84E-4223-A010-029A7629A975-1434107299-1.1-f-04-hu.wav\n",
            "   /content/drive/MyDrive/datasets/donateacry_corpus/hungry/D54D9C2A-56ED-4338-9D1F-2ADB4E081DAD-1429807587-1.0-m-48-hu.wav\n",
            "   /content/drive/MyDrive/datasets/donateacry_corpus/hungry/d6cda191-4962-4308-9a36-46d5648a95ed-1431882043380-1.7-m-04-hu.wav\n",
            "   /content/drive/MyDrive/datasets/donateacry_corpus/hungry/A123AD65-38D3-4A65-AB37-330034765840-1430093699-1.0-m-04-hu.wav\n",
            "   /content/drive/MyDrive/datasets/donateacry_corpus/hungry/3030d0e9-0c9b-4616-9b83-f10dc2dedbfd-1430053594259-1.7-m-26-hu.wav\n",
            "   /content/drive/MyDrive/datasets/donateacry_corpus/hungry/4be720ce-a5e5-4a48-930f-a212f8a239f6-1434774947458-1.7-f-48-hu.wav\n",
            "   /content/drive/MyDrive/datasets/donateacry_corpus/hungry/30c2cee4-b682-4dcb-86b9-7fa6f36f1b66-1430728411287-1.7-f-72-hu.wav\n",
            "   /content/drive/MyDrive/datasets/donateacry_corpus/hungry/3BF71DAF-2A9E-4355-89D3-41AC37E94083-1437281306-1.1-f-26-hu.wav\n",
            "   /content/drive/MyDrive/datasets/donateacry_corpus/hungry/5728DDD6-149B-412F-A14B-C29B9B5E415F-1432635047-1.0-m-26-hu.wav\n",
            "   /content/drive/MyDrive/datasets/donateacry_corpus/hungry/3941D08C-5A97-48A4-8830-091D878137F6-1430099813-1.0-m-72-hu.wav\n",
            "   /content/drive/MyDrive/datasets/donateacry_corpus/hungry/818A32F4-D5D8-426C-B88C-81A8154AC81A-1430093571-1.0-m-26-hu.wav\n",
            "   /content/drive/MyDrive/datasets/donateacry_corpus/hungry/0c8f14a9-6999-485b-97a2-913c1cbf099c-1430760394426-1.7-m-26-hu.wav\n",
            "   /content/drive/MyDrive/datasets/donateacry_corpus/hungry/719bb382-a592-46b7-82d2-8b4a625263b7-1430376501744-1.7-m-48-hu.wav\n",
            "   /content/drive/MyDrive/datasets/donateacry_corpus/hungry/3c51dedc-6e4c-47dd-a179-86a25e95f1ef-1430651049104-1.7-m-72-hu.wav\n",
            "   /content/drive/MyDrive/datasets/donateacry_corpus/hungry/FAE74A94-9968-43ED-958C-50D7C4C1F13C-1430770871-1.0-f-22-hu.wav\n",
            "   /content/drive/MyDrive/datasets/donateacry_corpus/hungry/549a46d8-9c84-430e-ade8-97eae2bef787-1430130702316-1.7-m-48-hu.wav\n",
            "   /content/drive/MyDrive/datasets/donateacry_corpus/hungry/6d922623-8424-4625-be4c-4964e0c9e25c-1434898452774-1.7-m-04-hu.wav\n",
            "   /content/drive/MyDrive/datasets/donateacry_corpus/hungry/1259bcad-2308-46fa-9a36-b5d8f359886a-1430143644843-1.7-f-04-hu.wav\n",
            "   /content/drive/MyDrive/datasets/donateacry_corpus/hungry/4CD5903D-E2CE-401E-B898-D873C763F44B-1430727644-1.0-m-26-hu.wav\n",
            "   /content/drive/MyDrive/datasets/donateacry_corpus/hungry/9CFD61B9-BF13-406D-8B2F-F73CFAAF25CB-1430927704-1.0-f-04-hu.wav\n",
            "   /content/drive/MyDrive/datasets/donateacry_corpus/hungry/b4c460d8-bd6b-4017-9bb8-2ae4ff0c5af1-1432751065608-1.7-f-26-hu.wav\n",
            "   /content/drive/MyDrive/datasets/donateacry_corpus/hungry/1445575b-80ad-477b-8e48-36194cac728e-1430244987914-1.7-f-48-hu.wav\n",
            "   /content/drive/MyDrive/datasets/donateacry_corpus/hungry/e4051e62-d21d-4bb8-a235-fd7e859ad787-1430739655763-1.7-m-04-hu.wav\n",
            "   /content/drive/MyDrive/datasets/donateacry_corpus/hungry/B456CE9D-CBD4-43E5-899B-8B8B0483F17D-1431015486-1.0-m-72-hu.wav\n",
            "   /content/drive/MyDrive/datasets/donateacry_corpus/hungry/c6fd9d60-0fa7-44c0-b3ce-0192527d7b81-1430038968282-1.7-m-04-hu.wav\n",
            "   /content/drive/MyDrive/datasets/donateacry_corpus/hungry/b8fe4527-5e46-437f-897d-be32112bc1c8-1430166086647-1.7-f-48-hu.wav\n",
            "   /content/drive/MyDrive/datasets/donateacry_corpus/hungry/719bb382-a592-46b7-82d2-8b4a625263b7-1430376562788-1.7-m-48-hu.wav\n",
            "   /content/drive/MyDrive/datasets/donateacry_corpus/hungry/21c07aff-0a8d-4e74-ad5e-e3c7f7bcb11b-1430031235662-1.7-m-04-hu.wav\n",
            "   /content/drive/MyDrive/datasets/donateacry_corpus/hungry/177dc72e-d0f8-47ef-a5a7-3b46878e11a0-1430736358754-1.7-f-26-hu.wav\n",
            "   /content/drive/MyDrive/datasets/donateacry_corpus/hungry/F4A0C710-AC2D-42E0-8EA9-3E4CAC31EE20-1430318400-1.0-m-04-hu.wav\n",
            "   /content/drive/MyDrive/datasets/donateacry_corpus/hungry/9fe37482-6a64-401d-b8b9-3e47d6ed9ac0-1430047362195-1.7-f-26-hu.wav\n",
            "   /content/drive/MyDrive/datasets/donateacry_corpus/hungry/39180491-e076-4300-b5de-24e812dca6fe-1435708371348-1.7-f-04-hu.wav\n",
            "   /content/drive/MyDrive/datasets/donateacry_corpus/hungry/40a4c760-facf-4911-b0a6-22eccc3ab18d-1430466164038-1.7-f-26-hu.wav\n",
            "   /content/drive/MyDrive/datasets/donateacry_corpus/hungry/ed31b187-34af-4ff1-979c-3b8a5905fb7b-1430044897699-1.7-f-48-hu.wav\n",
            "   /content/drive/MyDrive/datasets/donateacry_corpus/hungry/f896b69d-6241-4b51-9c45-0d628bc827c1-1430090274181-1.7-m-04-hu.wav\n",
            "   /content/drive/MyDrive/datasets/donateacry_corpus/hungry/815af07e-4c31-4032-8bd1-dab6e60c879e-1433156423585-1.7-m-04-hu.wav\n",
            "   /content/drive/MyDrive/datasets/donateacry_corpus/hungry/cde108d0-62c3-47f8-82c4-233c9fba5cdd-1436884444242-1.7-m-48-hu.wav\n",
            "   /content/drive/MyDrive/datasets/donateacry_corpus/hungry/C421C6FE-DFEE-4080-8AEA-848E7CE4756B-1430548250-1.0-f-48-hu.wav\n",
            "   /content/drive/MyDrive/datasets/donateacry_corpus/hungry/3bb2445a-9ae9-4dc8-9a2e-86c696ffa405-1430124221551-1.7-m-26-hu.wav\n",
            "   /content/drive/MyDrive/datasets/donateacry_corpus/hungry/7A864194-4B6B-4850-ABBF-0C2A8170107B-1436846870-1.1-f-26-hu.wav\n",
            "   /content/drive/MyDrive/datasets/donateacry_corpus/hungry/2439388A-9CF2-4D3B-9534-E6951FC9EAD4-1436877944-1.1-m-26-hu.wav\n",
            "   /content/drive/MyDrive/datasets/donateacry_corpus/hungry/7B924575-21FC-462A-969E-BABB46D1CBF5-1430055167-1.0-f-72-hu.wav\n",
            "   /content/drive/MyDrive/datasets/donateacry_corpus/hungry/8f4dbf5a-b504-4452-b6ac-94e646a6a052-1430735040980-1.7-f-72-hu.wav\n",
            "   /content/drive/MyDrive/datasets/donateacry_corpus/hungry/e4051e62-d21d-4bb8-a235-fd7e859ad787-1430740613780-1.7-f-72-hu.wav\n",
            "   /content/drive/MyDrive/datasets/donateacry_corpus/hungry/F1AF5794-AD3B-4181-B010-AB835E5BDA64-1430441342-1.0-m-72-hu.wav\n",
            "   /content/drive/MyDrive/datasets/donateacry_corpus/hungry/D54D9C2A-56ED-4338-9D1F-2ADB4E081DAD-1430036283-1.0-m-48-hu.wav\n",
            "   /content/drive/MyDrive/datasets/donateacry_corpus/hungry/DB95BF4A-E3E5-4429-A660-DBBCF486E6DF-1430664611-1.0-f-72-hu.wav\n",
            "   /content/drive/MyDrive/datasets/donateacry_corpus/hungry/2F1C0515-EC8E-44C1-ABEA-E04EB475543A-1432143888-1.1-m-22-hu.wav\n",
            "   /content/drive/MyDrive/datasets/donateacry_corpus/hungry/9CFD61B9-BF13-406D-8B2F-F73CFAAF25CB-1430927716-1.0-f-04-hu.wav\n",
            "   /content/drive/MyDrive/datasets/donateacry_corpus/hungry/24f94b49-c8bc-4ed2-b43a-80b099f12936-1430534429690-1.7-m-04-hu.wav\n",
            "   /content/drive/MyDrive/datasets/donateacry_corpus/hungry/e36730a9-d62b-4752-856f-b42feb1585df-1429975817524-1.7-m-04-hu.wav\n",
            "   /content/drive/MyDrive/datasets/donateacry_corpus/hungry/3030d0e9-0c9b-4616-9b83-f10dc2dedbfd-1430053447333-1.7-m-26-hu.wav\n",
            "   /content/drive/MyDrive/datasets/donateacry_corpus/hungry/090C15A8-5406-4EA5-97A3-81F6527227C0-1430147515-1.0-m-72-hu.wav\n",
            "   /content/drive/MyDrive/datasets/donateacry_corpus/hungry/F4A0C710-AC2D-42E0-8EA9-3E4CAC31EE20-1430318416-1.0-m-04-hu.wav\n",
            "   /content/drive/MyDrive/datasets/donateacry_corpus/hungry/D54D9C2A-56ED-4338-9D1F-2ADB4E081DAD-1429807598-1.0-m-48-hu.wav\n",
            "   /content/drive/MyDrive/datasets/donateacry_corpus/hungry/3bb2445a-9ae9-4dc8-9a2e-86c696ffa405-1430122005544-1.7-m-26-hu.wav\n",
            "   /content/drive/MyDrive/datasets/donateacry_corpus/hungry/04c3386b-e6bc-4bd0-8456-d46ae21a73fc-1435305829013-1.7-f-26-hu.wav\n",
            "   /content/drive/MyDrive/datasets/donateacry_corpus/hungry/999bf14b-e417-4b44-b746-9253f81efe38-1431013054417-1.7-m-26-hu.wav\n",
            "   /content/drive/MyDrive/datasets/donateacry_corpus/hungry/eccb4617-8373-4c4f-b49e-bb2d72bce8d8-1430035348191-1.7-m-26-hu.wav\n",
            "   /content/drive/MyDrive/datasets/donateacry_corpus/hungry/7E4B9C14-F955-4BED-9B03-7F3096A6CBFF-1430232157-1.0-f-26-hu.wav\n",
            "   /content/drive/MyDrive/datasets/donateacry_corpus/hungry/B400D2D0-9FCE-472E-A152-1FF349B9B407-1436845915-1.1-m-04-hu.wav\n",
            "   /content/drive/MyDrive/datasets/donateacry_corpus/hungry/719bb382-a592-46b7-82d2-8b4a625263b7-1430376483385-1.7-m-48-hu.wav\n",
            "   /content/drive/MyDrive/datasets/donateacry_corpus/hungry/adcefe56-90b1-4120-83b1-93008cb6f7f0-1430731683554-1.7-m-04-hu.wav\n",
            "   /content/drive/MyDrive/datasets/donateacry_corpus/hungry/50DC5FBC-AC95-44F2-B55F-E4E5FB03AC96-1430007656-1.0-m-26-hu.wav\n",
            "   /content/drive/MyDrive/datasets/donateacry_corpus/hungry/3bb2445a-9ae9-4dc8-9a2e-86c696ffa405-1430122479873-1.7-m-26-hu.wav\n",
            "   /content/drive/MyDrive/datasets/donateacry_corpus/hungry/0c8f14a9-6999-485b-97a2-913c1cbf099c-1430760379259-1.7-m-26-hu.wav\n",
            "   /content/drive/MyDrive/datasets/donateacry_corpus/hungry/F2F97740-D638-4B6F-9E09-3AC65F06B448-1436849335-1.1-f-48-hu.wav\n",
            "   /content/drive/MyDrive/datasets/donateacry_corpus/hungry/459c3f85-5710-4efa-bcc9-8012aa1af55e-1430034895673-1.7-f-48-hu.wav\n",
            "   /content/drive/MyDrive/datasets/donateacry_corpus/hungry/4be720ce-a5e5-4a48-930f-a212f8a239f6-1434737694572-1.7-f-48-hu.wav\n",
            "   /content/drive/MyDrive/datasets/donateacry_corpus/hungry/8f4dbf5a-b504-4452-b6ac-94e646a6a052-1430735057816-1.7-f-72-hu.wav\n",
            "   /content/drive/MyDrive/datasets/donateacry_corpus/hungry/fa8620d3-e7db-4101-aff0-28dbf0d96a5f-1434296505682-1.7-f-04-hu.wav\n",
            "   /content/drive/MyDrive/datasets/donateacry_corpus/hungry/549a46d8-9c84-430e-ade8-97eae2bef787-1430130714659-1.7-m-48-hu.wav\n",
            "   /content/drive/MyDrive/datasets/donateacry_corpus/hungry/ed31b187-34af-4ff1-979c-3b8a5905fb7b-1430044853892-1.7-f-04-hu.wav\n",
            "   /content/drive/MyDrive/datasets/donateacry_corpus/hungry/F950E7E3-A1A5-4A01-99F4-9B155C3C6606-1430305696-1.0-m-72-hu.wav\n",
            "   /content/drive/MyDrive/datasets/donateacry_corpus/hungry/5b49f19f-a3a7-411e-bb32-755da3cbd6f0-1430029991480-1.7-m-48-hu.wav\n",
            "   /content/drive/MyDrive/datasets/donateacry_corpus/hungry/5E01DC60-1DE3-4AF9-A661-7F649EAE457D-1430141106-1.0-m-26-hu.wav\n",
            "   /content/drive/MyDrive/datasets/donateacry_corpus/hungry/7A864194-4B6B-4850-ABBF-0C2A8170107B-1436846797-1.1-f-26-hu.wav\n",
            "   /content/drive/MyDrive/datasets/donateacry_corpus/hungry/e37c323c-0edb-4942-be47-3cc0b2de00a1-1434392936735-1.7-f-26-hu.wav\n",
            "   /content/drive/MyDrive/datasets/donateacry_corpus/hungry/9fe37482-6a64-401d-b8b9-3e47d6ed9ac0-1430047590938-1.7-f-26-hu.wav\n",
            "   /content/drive/MyDrive/datasets/donateacry_corpus/hungry/69374818-7b73-48ac-8200-e6a225e293fb-1430746091424-1.7-m-04-hu.wav\n",
            "   /content/drive/MyDrive/datasets/donateacry_corpus/hungry/9fe37482-6a64-401d-b8b9-3e47d6ed9ac0-1430047373513-1.7-f-26-hu.wav\n",
            "   /content/drive/MyDrive/datasets/donateacry_corpus/hungry/999bf14b-e417-4b44-b746-9253f81efe38-1430844940177-1.7-m-04-hu.wav\n",
            "   /content/drive/MyDrive/datasets/donateacry_corpus/hungry/ae5a462b-5424-4b5b-82d5-07ccb61654ab-1431155960186-1.7-f-48-hu.wav\n",
            "   /content/drive/MyDrive/datasets/donateacry_corpus/hungry/d1e236a0-e030-4137-9030-5625026cd098-1430477951092-1.2-m-04-hu.wav\n",
            "   /content/drive/MyDrive/datasets/donateacry_corpus/hungry/aaa57dbd-7b88-454a-963e-6faa2f4ed4e7-1436988612387-1.7-f-04-hu.wav\n",
            "   /content/drive/MyDrive/datasets/donateacry_corpus/hungry/549a46d8-9c84-430e-ade8-97eae2bef787-1430130686288-1.7-m-48-hu.wav\n",
            "   /content/drive/MyDrive/datasets/donateacry_corpus/hungry/7E4B9C14-F955-4BED-9B03-7F3096A6CBFF-1430232195-1.0-f-26-hu.wav\n",
            "   /content/drive/MyDrive/datasets/donateacry_corpus/hungry/4cefc13c-e7c0-4b5a-bddb-c40c103e640a-1431583470764-1.7-f-26-hu.wav\n",
            "   /content/drive/MyDrive/datasets/donateacry_corpus/hungry/e1e640e2-78cb-4cb7-9ccc-93813bfc251c-1430738652322-1.7-m-72-hu.wav\n",
            "   /content/drive/MyDrive/datasets/donateacry_corpus/hungry/D54D9C2A-56ED-4338-9D1F-2ADB4E081DAD-1430036301-1.0-m-48-hu.wav\n",
            "   /content/drive/MyDrive/datasets/donateacry_corpus/hungry/539FDD32-6326-422E-A707-FCF063D3426C-1437073544-1.1-f-26-hu.wav\n",
            "   /content/drive/MyDrive/datasets/donateacry_corpus/hungry/24f2a4e1-7161-42a3-a2a2-a29a2422c0b8-1430814741368-1.7-f-26-hu.wav\n",
            "   /content/drive/MyDrive/datasets/donateacry_corpus/hungry/7A864194-4B6B-4850-ABBF-0C2A8170107B-1436846824-1.1-f-26-hu.wav\n",
            "   /content/drive/MyDrive/datasets/donateacry_corpus/hungry/3bb2445a-9ae9-4dc8-9a2e-86c696ffa405-1430122381138-1.7-m-26-hu.wav\n",
            "   /content/drive/MyDrive/datasets/donateacry_corpus/hungry/7B924575-21FC-462A-969E-BABB46D1CBF5-1430055243-1.0-f-72-hu.wav\n",
            "   /content/drive/MyDrive/datasets/donateacry_corpus/hungry/e0cc5beb-50e5-46ef-852e-c92106216e62-1430143334661-1.7-m-04-hu.wav\n",
            "   /content/drive/MyDrive/datasets/donateacry_corpus/hungry/d79affbc-f7b4-4ef0-ae57-be5da4b827bf-1430761528998-1.7-m-72-hu.wav\n",
            "   /content/drive/MyDrive/datasets/donateacry_corpus/hungry/189b78c6-9e78-43f2-bcb8-6cc8a462f4dc-1430807938301-1.7-m-22-hu.wav\n",
            "   /content/drive/MyDrive/datasets/donateacry_corpus/hungry/8FDA58A7-FDC6-4421-855F-738E6E853E43-1429895742-1.0-m-26-hu.wav\n",
            "   /content/drive/MyDrive/datasets/donateacry_corpus/hungry/52dfc27a-fbc4-4d9f-bbcf-6406c919324a-1430041657947-1.7-m-26-hu.wav\n",
            "   /content/drive/MyDrive/datasets/donateacry_corpus/hungry/4be720ce-a5e5-4a48-930f-a212f8a239f6-1434737668804-1.7-f-48-hu.wav\n",
            "   /content/drive/MyDrive/datasets/donateacry_corpus/hungry/3941D08C-5A97-48A4-8830-091D878137F6-1430099826-1.0-m-72-hu.wav\n",
            "   /content/drive/MyDrive/datasets/donateacry_corpus/hungry/63CA92F7-973A-4DCA-A410-7B19811A2478-1430041884-1.0-f-26-hu.wav\n",
            "   /content/drive/MyDrive/datasets/donateacry_corpus/hungry/7616E8F4-B1A7-45A6-9A0C-C9BB2DE64FC3-1436868751-1.1-m-72-hu.wav\n",
            "   /content/drive/MyDrive/datasets/donateacry_corpus/hungry/8c920fd0-fa9f-4926-bcac-074767dcbfcd-1436856363348-1.7-f-04-hu.wav\n",
            "   /content/drive/MyDrive/datasets/donateacry_corpus/hungry/415d69b4-6d84-4bf8-97b0-10f8f108dc1d-1430739528719-1.7-m-04-hu.wav\n",
            "   /content/drive/MyDrive/datasets/donateacry_corpus/hungry/88da3fbd-926b-4ee7-ae8f-85f92f2783b0-1430114329442-1.7-m-04-hu.wav\n",
            "   /content/drive/MyDrive/datasets/donateacry_corpus/hungry/8C13A1F9-62CC-46AA-9192-BECE5CDD5CB0-1430249362-1.0-f-72-hu.wav\n",
            "   /content/drive/MyDrive/datasets/donateacry_corpus/hungry/d6cda191-4962-4308-9a36-46d5648a95ed-1431882032820-1.7-m-04-hu.wav\n",
            "   /content/drive/MyDrive/datasets/donateacry_corpus/hungry/0a983cd2-0078-4698-a048-99ac01eb167a-1433917038889-1.7-f-04-hu.wav\n",
            "   /content/drive/MyDrive/datasets/donateacry_corpus/hungry/8c66887c-8251-49fa-903b-c02d56405f58-1436856137837-1.7-m-26-hu.wav\n",
            "   /content/drive/MyDrive/datasets/donateacry_corpus/hungry/08E9485B-2772-444B-A636-77E14DD14A8C-1431493441-1.0-m-04-hu.wav\n",
            "   /content/drive/MyDrive/datasets/donateacry_corpus/hungry/F95D4BCE-2FB0-4A0C-A058-BFB0674539AF-1430055950-1.0-m-26-hu.wav\n",
            "   /content/drive/MyDrive/datasets/donateacry_corpus/hungry/f5b29377-7cd6-4688-942c-5a07add39dc5-1437178455960-1.7-f-26-hu.wav\n",
            "   /content/drive/MyDrive/datasets/donateacry_corpus/hungry/DB95BF4A-E3E5-4429-A660-DBBCF486E6DF-1430664633-1.0-f-72-hu.wav\n",
            "   /content/drive/MyDrive/datasets/donateacry_corpus/hungry/c6fd9d60-0fa7-44c0-b3ce-0192527d7b81-1429978271017-1.7-m-04-hu.wav\n",
            "   /content/drive/MyDrive/datasets/donateacry_corpus/hungry/85FAB169-4DCC-406D-AC93-2F6A8D797DAB-1437632141-1.1-m-04-hu.wav\n",
            "   /content/drive/MyDrive/datasets/donateacry_corpus/hungry/fa8620d3-e7db-4101-aff0-28dbf0d96a5f-1434465485354-1.7-f-04-hu.wav\n",
            "   /content/drive/MyDrive/datasets/donateacry_corpus/hungry/63CA92F7-973A-4DCA-A410-7B19811A2478-1430041902-1.0-f-26-hu.wav\n",
            "   /content/drive/MyDrive/datasets/donateacry_corpus/hungry/375308C6-F894-49A5-B246-8C2819E9C6ED-1430416651-1.0-m-04-hu.wav\n",
            "   /content/drive/MyDrive/datasets/donateacry_corpus/hungry/2439388A-9CF2-4D3B-9534-E6951FC9EAD4-1436877953-1.1-m-26-hu.wav\n",
            "   /content/drive/MyDrive/datasets/donateacry_corpus/hungry/24f94b49-c8bc-4ed2-b43a-80b099f12936-1430534715095-1.7-m-04-hu.wav\n",
            "   /content/drive/MyDrive/datasets/donateacry_corpus/hungry/a40b9b8d-e4bc-457a-badf-f38bdbc0c358-1430017191818-1.7-m-26-hu.wav\n",
            "   /content/drive/MyDrive/datasets/donateacry_corpus/hungry/743E7CCA-D32B-40B6-9541-9808122D3F6B-1436860011-1.1-f-26-hu.wav\n",
            "   /content/drive/MyDrive/datasets/donateacry_corpus/hungry/4cefc13c-e7c0-4b5a-bddb-c40c103e640a-1431583459308-1.7-f-26-hu.wav\n",
            "   /content/drive/MyDrive/datasets/donateacry_corpus/hungry/549a46d8-9c84-430e-ade8-97eae2bef787-1430130760929-1.7-m-48-hu.wav\n",
            "   /content/drive/MyDrive/datasets/donateacry_corpus/hungry/35D58153-7AB7-443D-BED0-2D7ABF73743F-1431855847-1.1-m-04-hu.wav\n",
            "   /content/drive/MyDrive/datasets/donateacry_corpus/hungry/7B924575-21FC-462A-969E-BABB46D1CBF5-1430055220-1.0-f-72-hu.wav\n",
            "   /content/drive/MyDrive/datasets/donateacry_corpus/hungry/7E4B9C14-F955-4BED-9B03-7F3096A6CBFF-1430232166-1.0-f-26-hu.wav\n",
            "   /content/drive/MyDrive/datasets/donateacry_corpus/hungry/035c6b30-a145-42b9-8d0f-445cd9003d2c-1435948197257-1.7-m-04-hu.wav\n",
            "   /content/drive/MyDrive/datasets/donateacry_corpus/hungry/1259bcad-2308-46fa-9a36-b5d8f359886a-1430143668806-1.7-f-04-hu.wav\n",
            "   /content/drive/MyDrive/datasets/donateacry_corpus/hungry/d1e236a0-e030-4137-9030-5625026cd098-1430477960643-1.2-m-04-hu.wav\n",
            "   /content/drive/MyDrive/datasets/donateacry_corpus/hungry/a7b13b65-da2c-48ec-8aed-46adcaba705f-1430823489236-1.7-f-26-hu.wav\n",
            "   /content/drive/MyDrive/datasets/donateacry_corpus/hungry/d79affbc-f7b4-4ef0-ae57-be5da4b827bf-1430761514476-1.7-m-72-hu.wav\n",
            "   /content/drive/MyDrive/datasets/donateacry_corpus/hungry/771fa0cc-4535-471b-9cec-d26deff8d567-1429803644891-1.7-m-04-hu.wav\n",
            "\n",
            "\n",
            "Class: belly_pain - 16 file(s)\n",
            "   /content/drive/MyDrive/datasets/donateacry_corpus/belly_pain/d6cda191-4962-4308-9a36-46d5648a95ed-1431700390946-1.7-m-04-bp.wav\n",
            "   /content/drive/MyDrive/datasets/donateacry_corpus/belly_pain/d6cda191-4962-4308-9a36-46d5648a95ed-1431159272600-1.7-m-04-bp.wav\n",
            "   /content/drive/MyDrive/datasets/donateacry_corpus/belly_pain/643D64AD-B711-469A-AF69-55C0D5D3E30F-1430138524-1.0-m-72-bp.wav\n",
            "   /content/drive/MyDrive/datasets/donateacry_corpus/belly_pain/643D64AD-B711-469A-AF69-55C0D5D3E30F-1430138591-1.0-m-72-bp.wav\n",
            "   /content/drive/MyDrive/datasets/donateacry_corpus/belly_pain/643D64AD-B711-469A-AF69-55C0D5D3E30F-1430138536-1.0-m-72-bp.wav\n",
            "   /content/drive/MyDrive/datasets/donateacry_corpus/belly_pain/643D64AD-B711-469A-AF69-55C0D5D3E30F-1430138506-1.0-m-72-bp.wav\n",
            "   /content/drive/MyDrive/datasets/donateacry_corpus/belly_pain/549a46d8-9c84-430e-ade8-97eae2bef787-1430130772174-1.7-m-48-bp.wav\n",
            "   /content/drive/MyDrive/datasets/donateacry_corpus/belly_pain/d6cda191-4962-4308-9a36-46d5648a95ed-1431159262344-1.7-m-04-bp.wav\n",
            "   /content/drive/MyDrive/datasets/donateacry_corpus/belly_pain/69BDA5D6-0276-4462-9BF7-951799563728-1436936185-1.1-m-26-bp.wav\n",
            "   /content/drive/MyDrive/datasets/donateacry_corpus/belly_pain/643D64AD-B711-469A-AF69-55C0D5D3E30F-1430138647-1.0-m-72-bp.wav\n",
            "   /content/drive/MyDrive/datasets/donateacry_corpus/belly_pain/643D64AD-B711-469A-AF69-55C0D5D3E30F-1430138514-1.0-m-72-bp.wav\n",
            "   /content/drive/MyDrive/datasets/donateacry_corpus/belly_pain/999bf14b-e417-4b44-b746-9253f81efe38-1430974001343-1.7-m-26-bp.wav\n",
            "   /content/drive/MyDrive/datasets/donateacry_corpus/belly_pain/ae5f103b-5fee-442f-bb1b-d9d0570c46ab-1431533857965-1.7-m-26-bp.wav\n",
            "   /content/drive/MyDrive/datasets/donateacry_corpus/belly_pain/C421C6FE-DFEE-4080-8AEA-848E7CE4756B-1430548333-1.0-f-26-bp.wav\n",
            "   /content/drive/MyDrive/datasets/donateacry_corpus/belly_pain/643D64AD-B711-469A-AF69-55C0D5D3E30F-1430138545-1.0-m-72-bp.wav\n",
            "   /content/drive/MyDrive/datasets/donateacry_corpus/belly_pain/643D64AD-B711-469A-AF69-55C0D5D3E30F-1430138495-1.0-m-72-bp.wav\n",
            "\n",
            "\n",
            "Class: tired - 24 file(s)\n",
            "   /content/drive/MyDrive/datasets/donateacry_corpus/tired/d6cda191-4962-4308-9a36-46d5648a95ed-1431587899682-1.7-m-04-ti.wav\n",
            "   /content/drive/MyDrive/datasets/donateacry_corpus/tired/79FF400A-97E2-4701-987D-C7C850D5523C-1430089487-1.0-f-48-ti.wav\n",
            "   /content/drive/MyDrive/datasets/donateacry_corpus/tired/eea17285-4ab9-4d34-a2f5-55fc8c866ac6-1431887695278-1.7-f-26-ti.wav\n",
            "   /content/drive/MyDrive/datasets/donateacry_corpus/tired/C5127741-5897-468C-A543-7F1B72569F0E-1428333964-1.0-m-26-ti.wav\n",
            "   /content/drive/MyDrive/datasets/donateacry_corpus/tired/cecd525b-18fd-49e3-b2b9-dfb08b93ad95-1430110029205-1.7-m-26-ti.wav\n",
            "   /content/drive/MyDrive/datasets/donateacry_corpus/tired/B2AABCE0-1F62-4B57-B58A-308959ABDFE7-1437188766-1.1-m-26-ti.wav\n",
            "   /content/drive/MyDrive/datasets/donateacry_corpus/tired/C421C6FE-DFEE-4080-8AEA-848E7CE4756B-1430548384-1.0-m-26-ti.wav\n",
            "   /content/drive/MyDrive/datasets/donateacry_corpus/tired/ca7d8d54-13cb-4060-8db4-90651b60c078-1434674792223-1.7-f-26-ti.wav\n",
            "   /content/drive/MyDrive/datasets/donateacry_corpus/tired/06c4cfa2-7fa6-4fda-91a1-ea186a4acc64-1430029246453-1.7-f-26-ti.wav\n",
            "   /content/drive/MyDrive/datasets/donateacry_corpus/tired/d6cda191-4962-4308-9a36-46d5648a95ed-1431587887997-1.7-m-04-ti.wav\n",
            "   /content/drive/MyDrive/datasets/donateacry_corpus/tired/06c4cfa2-7fa6-4fda-91a1-ea186a4acc64-1430029221058-1.7-f-26-ti.wav\n",
            "   /content/drive/MyDrive/datasets/donateacry_corpus/tired/5B416CE8-2591-4531-9ADC-86D085B5D48B-1430144827-1.0-m-48-ti.wav\n",
            "   /content/drive/MyDrive/datasets/donateacry_corpus/tired/03ADDCFB-354E-416D-BF32-260CF47F7060-1433658024-1.1-f-04-ti.wav\n",
            "   /content/drive/MyDrive/datasets/donateacry_corpus/tired/C421C6FE-DFEE-4080-8AEA-848E7CE4756B-1430548393-1.0-f-26-ti.wav\n",
            "   /content/drive/MyDrive/datasets/donateacry_corpus/tired/d6cda191-4962-4308-9a36-46d5648a95ed-1431616581736-1.7-m-04-ti.wav\n",
            "   /content/drive/MyDrive/datasets/donateacry_corpus/tired/b4c460d8-bd6b-4017-9bb8-2ae4ff0c5af1-1430418266487-1.7-f-26-ti.wav\n",
            "   /content/drive/MyDrive/datasets/donateacry_corpus/tired/1309B82C-F146-46F0-A723-45345AFA6EA8-1430059864-1.0-f-04-ti.wav\n",
            "   /content/drive/MyDrive/datasets/donateacry_corpus/tired/7A22229D-06C2-4AAA-9674-DE5DF1906B3A-1436891944-1.1-m-72-ti.wav\n",
            "   /content/drive/MyDrive/datasets/donateacry_corpus/tired/d5abedab-9ed5-48d0-a83b-fc00c33d6d6b-1430079192907-1.7-f-04-ti.wav\n",
            "   /content/drive/MyDrive/datasets/donateacry_corpus/tired/1309B82C-F146-46F0-A723-45345AFA6EA8-1431172241-1.0-f-48-ti.wav\n",
            "   /content/drive/MyDrive/datasets/donateacry_corpus/tired/B2AABCE0-1F62-4B57-B58A-308959ABDFE7-1437188751-1.1-m-26-ti.wav\n",
            "   /content/drive/MyDrive/datasets/donateacry_corpus/tired/D4665929-8695-4655-927F-63F09B2D4CB8-1430726940-1.0-f-26-ti.wav\n",
            "   /content/drive/MyDrive/datasets/donateacry_corpus/tired/7A22229D-06C2-4AAA-9674-DE5DF1906B3A-1436891957-1.1-m-72-ti.wav\n",
            "   /content/drive/MyDrive/datasets/donateacry_corpus/tired/06c4cfa2-7fa6-4fda-91a1-ea186a4acc64-1430029237378-1.7-f-26-ti.wav\n",
            "\n",
            "\n",
            "Class: burping - 8 file(s)\n",
            "   /content/drive/MyDrive/datasets/donateacry_corpus/burping/F24DE44B-762C-4149-AC92-96A5E57ED118-1430816949-1.0-m-04-bu.wav\n",
            "   /content/drive/MyDrive/datasets/donateacry_corpus/burping/AEA8AE04-D00E-48A7-8A0B-6D87E2175121-1430563241-1.0-f-72-bu.wav\n",
            "   /content/drive/MyDrive/datasets/donateacry_corpus/burping/7A864194-4B6B-4850-ABBF-0C2A8170107B-1436846915-1.1-f-26-bu.wav\n",
            "   /content/drive/MyDrive/datasets/donateacry_corpus/burping/7E4B9C14-F955-4BED-9B03-7F3096A6CBFF-1430232208-1.0-f-26-bu.wav\n",
            "   /content/drive/MyDrive/datasets/donateacry_corpus/burping/af30880e-5f98-4dc0-b37a-be6b21fa0ba3-1431240072536-1.7-m-26-bu.wav\n",
            "   /content/drive/MyDrive/datasets/donateacry_corpus/burping/7E4B9C14-F955-4BED-9B03-7F3096A6CBFF-1430540826-1.0-f-26-bu.wav\n",
            "   /content/drive/MyDrive/datasets/donateacry_corpus/burping/79FF400A-97E2-4701-987D-C7C850D5523C-1430089648-1.0-f-48-bu.wav\n",
            "   /content/drive/MyDrive/datasets/donateacry_corpus/burping/5afc6a14-a9d8-45f8-b31d-c79dd87cc8c6-1430757039803-1.7-m-48-bu.wav\n",
            "\n",
            "\n",
            "Class: discomfort - 27 file(s)\n",
            "   /content/drive/MyDrive/datasets/donateacry_corpus/discomfort/10A40438-09AA-4A21-83B4-8119F03F7A11-1430925142-1.0-f-26-dc.wav\n",
            "   /content/drive/MyDrive/datasets/donateacry_corpus/discomfort/79FF400A-97E2-4701-987D-C7C850D5523C-1430089621-1.0-f-48-dc.wav\n",
            "   /content/drive/MyDrive/datasets/donateacry_corpus/discomfort/2294E2B2-8E36-4DA6-A898-B947CB9446AB-1436462707-1.1-m-26-dc.wav\n",
            "   /content/drive/MyDrive/datasets/donateacry_corpus/discomfort/64acb345-a61e-4ef3-a5a6-cf83c04b83f1-1430058990597-1.7-m-72-dc.wav\n",
            "   /content/drive/MyDrive/datasets/donateacry_corpus/discomfort/d6cda191-4962-4308-9a36-46d5648a95ed-1426942891562-1.4-f-48-dc.wav\n",
            "   /content/drive/MyDrive/datasets/donateacry_corpus/discomfort/a40b9b8d-e4bc-457a-badf-f38bdbc0c358-1430016981469-1.7-m-26-dc.wav\n",
            "   /content/drive/MyDrive/datasets/donateacry_corpus/discomfort/f5b29377-7cd6-4688-942c-5a07add39dc5-1437480263225-1.7-f-26-dc.wav\n",
            "   /content/drive/MyDrive/datasets/donateacry_corpus/discomfort/837fd072-8704-4196-9ff1-1d2c07886e55-1432429478471-1.7-m-22-dc.wav\n",
            "   /content/drive/MyDrive/datasets/donateacry_corpus/discomfort/7b0e160e-0505-459e-8ecb-304d7afae9d2-1437486974312-1.7-m-04-dc.wav\n",
            "   /content/drive/MyDrive/datasets/donateacry_corpus/discomfort/ae5a462b-5424-4b5b-82d5-07ccb61654ab-1431064345173-1.7-f-48-dc.wav\n",
            "   /content/drive/MyDrive/datasets/donateacry_corpus/discomfort/64acb345-a61e-4ef3-a5a6-cf83c04b83f1-1430059012473-1.7-m-72-dc.wav\n",
            "   /content/drive/MyDrive/datasets/donateacry_corpus/discomfort/999bf14b-e417-4b44-b746-9253f81efe38-1430844958178-1.7-m-04-ch.wav\n",
            "   /content/drive/MyDrive/datasets/donateacry_corpus/discomfort/999bf14b-e417-4b44-b746-9253f81efe38-1430845018393-1.7-m-26-ch.wav\n",
            "   /content/drive/MyDrive/datasets/donateacry_corpus/discomfort/79FF400A-97E2-4701-987D-C7C850D5523C-1430089688-1.0-f-48-dc.wav\n",
            "   /content/drive/MyDrive/datasets/donateacry_corpus/discomfort/d6cda191-4962-4308-9a36-46d5648a95ed-1431086262776-1.7-m-04-ch.wav\n",
            "   /content/drive/MyDrive/datasets/donateacry_corpus/discomfort/1309B82C-F146-46F0-A723-45345AFA6EA8-1430704008-1.0-f-48-dc.wav\n",
            "   /content/drive/MyDrive/datasets/donateacry_corpus/discomfort/999bf14b-e417-4b44-b746-9253f81efe38-1430844994519-1.7-m-04-ch.wav\n",
            "   /content/drive/MyDrive/datasets/donateacry_corpus/discomfort/999bf14b-e417-4b44-b746-9253f81efe38-1430844979531-1.7-m-04-ch.wav\n",
            "   /content/drive/MyDrive/datasets/donateacry_corpus/discomfort/665BDF6D-2897-49F9-8AD0-978B3B2A0468-1430530218-1.0-m-26-dc.wav\n",
            "   /content/drive/MyDrive/datasets/donateacry_corpus/discomfort/999bf14b-e417-4b44-b746-9253f81efe38-1430845035663-1.7-m-26-ch.wav\n",
            "   /content/drive/MyDrive/datasets/donateacry_corpus/discomfort/1309B82C-F146-46F0-A723-45345AFA6EA8-1432801703-1.1-f-26-dc.wav\n",
            "   /content/drive/MyDrive/datasets/donateacry_corpus/discomfort/1309B82C-F146-46F0-A723-45345AFA6EA8-1430703937-1.0-f-48-dc.wav\n",
            "   /content/drive/MyDrive/datasets/donateacry_corpus/discomfort/1309B82C-F146-46F0-A723-45345AFA6EA8-1432801693-1.1-f-26-dc.wav\n",
            "   /content/drive/MyDrive/datasets/donateacry_corpus/discomfort/f258a8e2-92cd-4843-9da4-80ed26ec8e10-1436944996156-1.7-f-26-ch.wav\n",
            "   /content/drive/MyDrive/datasets/donateacry_corpus/discomfort/11417AC2-DCC9-48CD-8177-CA8665E51B2F-1436881512-1.1-m-48-dc.wav\n",
            "   /content/drive/MyDrive/datasets/donateacry_corpus/discomfort/d6cda191-4962-4308-9a36-46d5648a95ed-1431161889263-1.7-m-04-dc.wav\n",
            "   /content/drive/MyDrive/datasets/donateacry_corpus/discomfort/D1CB71F9-EF76-49B3-A703-41D557444D21-1436863419-1.1-f-26-dc.wav\n",
            "\n",
            "\n"
          ]
        }
      ]
    }
  ]
}