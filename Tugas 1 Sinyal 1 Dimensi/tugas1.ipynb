{
  "metadata": {
    "kernelspec": {
      "language": "python",
      "display_name": "Python 3",
      "name": "python3"
    },
    "language_info": {
      "name": "python",
      "version": "3.10.14",
      "mimetype": "text/x-python",
      "codemirror_mode": {
        "name": "ipython",
        "version": 3
      },
      "pygments_lexer": "ipython3",
      "nbconvert_exporter": "python",
      "file_extension": ".py"
    },
    "kaggle": {
      "accelerator": "none",
      "dataSources": [
        {
          "sourceId": 7243196,
          "sourceType": "datasetVersion",
          "datasetId": 4195468
        }
      ],
      "dockerImageVersionId": 30786,
      "isInternetEnabled": false,
      "language": "python",
      "sourceType": "notebook",
      "isGpuEnabled": false
    },
    "colab": {
      "provenance": []
    }
  },
  "nbformat_minor": 0,
  "nbformat": 4,
  "cells": [
    {
      "cell_type": "markdown",
      "source": [
        "**NIM : 24/554318/NPA/19979**\n",
        "**NAMA: PRAMITHA WITAWACITA ASTADEWI**"
      ],
      "metadata": {
        "id": "xFi4IaQ5ofFr"
      }
    },
    {
      "cell_type": "markdown",
      "source": [
        "**DOWNLOAD DATASET DARI KAGLE**"
      ],
      "metadata": {
        "id": "uquoXvhfpTY3"
      }
    },
    {
      "cell_type": "code",
      "source": [
        "!kaggle datasets download -d warcoder/infant-cry-audio-corpus --force"
      ],
      "metadata": {
        "colab": {
          "base_uri": "https://localhost:8080/"
        },
        "id": "UhQg5kr-20-4",
        "outputId": "ef101236-0bb4-4e2d-e14a-1fdd9d9857ae"
      },
      "execution_count": 13,
      "outputs": [
        {
          "output_type": "stream",
          "name": "stdout",
          "text": [
            "Dataset URL: https://www.kaggle.com/datasets/warcoder/infant-cry-audio-corpus\n",
            "License(s): other\n",
            "Downloading infant-cry-audio-corpus.zip to /content\n",
            "  0% 0.00/39.0M [00:00<?, ?B/s]\n",
            "100% 39.0M/39.0M [00:00<00:00, 512MB/s]\n"
          ]
        }
      ]
    },
    {
      "cell_type": "code",
      "execution_count": 5,
      "metadata": {
        "id": "K28LEQFgAV2k"
      },
      "outputs": [],
      "source": [
        "! pip install -q kaggle"
      ]
    },
    {
      "cell_type": "code",
      "execution_count": 6,
      "metadata": {
        "id": "WAtLTGCFAhEb"
      },
      "outputs": [],
      "source": [
        " ! mkdir ~/.kaggle"
      ]
    },
    {
      "cell_type": "code",
      "execution_count": 7,
      "metadata": {
        "id": "BKQdUpxzA_4Y"
      },
      "outputs": [],
      "source": [
        " !cp kaggle.json ~/.kaggle/"
      ]
    },
    {
      "cell_type": "code",
      "execution_count": 8,
      "metadata": {
        "id": "jme_y8qPBCMQ"
      },
      "outputs": [],
      "source": [
        " ! chmod 600 ~/.kaggle/kaggle.json"
      ]
    },
    {
      "cell_type": "code",
      "source": [
        " ! kaggle datasets list"
      ],
      "metadata": {
        "id": "H8mCTikhf1xY",
        "outputId": "ce344036-1b3c-403f-95be-dbf5745fd79c",
        "colab": {
          "base_uri": "https://localhost:8080/"
        }
      },
      "execution_count": 11,
      "outputs": [
        {
          "output_type": "stream",
          "name": "stdout",
          "text": [
            "ref                                                                  title                                                     size  lastUpdated                 downloadCount  voteCount  usabilityRating  \n",
            "-------------------------------------------------------------------  --------------------------------------------------  ----------  --------------------------  -------------  ---------  ---------------  \n",
            "atharvasoundankar/chocolate-sales                                    Chocolate Sales Data 📊🍫                                  14473  2025-03-19 03:51:40.270000          11110        197  1.0              \n",
            "abdulmalik1518/mobiles-dataset-2025                                  Mobiles Dataset (2025)                                   20314  2025-02-18 06:50:24.370000          16999        288  1.0              \n",
            "adilshamim8/student-depression-dataset                               Student Depression Dataset                              467020  2025-03-13 03:12:30.423000           3615         59  1.0              \n",
            "ak0212/anxiety-and-depression-mental-health-factors                  Anxiety and Depression Mental Health Factors             21687  2025-03-14 13:03:23.933000           1220         28  1.0              \n",
            "atharvasoundankar/mental-health-and-lifestyle-habits-2019-2024       🧠 Mental Health and Lifestyle Habits (2019-2024)         41947  2025-03-17 05:05:52.133000            849         23  1.0              \n",
            "abdulmoiz12/amazon-stock-data-2025                                   Amazon Stock Data 2025                                  160519  2025-03-01 09:08:07.890000           1640         33  1.0              \n",
            "mahmoudelhemaly/students-grading-dataset                             Student Performance & Behavior Dataset                  520428  2025-02-17 17:38:46.653000          12000        188  1.0              \n",
            "ankushpanday2/heart-attack-prediction-in-indonesia                   Heart Attack Prediction in Indonesia                   5398776  2025-03-11 15:19:28.123000            974         29  1.0              \n",
            "bhargavchirumamilla/netflix-movies-and-tv-shows-till-2025            Netflix Movies and TV shows till 2025                  6471169  2025-03-04 01:06:12.240000           2064         30  1.0              \n",
            "zahidmughal2343/employee-data                                        Employee Data                                           379143  2025-03-08 19:36:42.953000           1535         28  1.0              \n",
            "atharvasoundankar/global-cybersecurity-threats-2015-2024             🌐 Global Cybersecurity Threats (2015-2024)               48178  2025-03-16 04:23:13.343000           1158         28  1.0              \n",
            "aradhanahirapara/income-survey-finance-analysis                      Income Survey | Finance Analysis                       1826775  2025-03-20 19:53:01.633000           1110         24  0.7647059        \n",
            "amanrajput16/used-car-price-data-from-cars24                         Used Cars Market Analysis:Scraped Data from Cars24       22591  2025-03-08 11:40:03.327000           1297         24  1.0              \n",
            "maicolab/university-admission                                        Student performance on the entrance exam                376010  2025-03-02 17:13:46.457000            894         23  1.0              \n",
            "shohinurpervezshohan/freelancer-earnings-and-job-trends              Freelancer Earnings & Job Trends                         52906  2025-03-08 07:21:46.633000           1450         29  0.9411765        \n",
            "ricgomes/global-fashion-retail-stores-dataset                        Global Fashion Retail Sales                          234910599  2025-03-19 18:37:15.857000           1902         30  1.0              \n",
            "atharvasoundankar/global-food-wastage-dataset-2018-2024              🌍 Global Food Wastage Dataset (2018-2024) 🍽️            108611  2025-03-12 04:51:27.083000           1450         26  1.0              \n",
            "atharvasoundankar/viral-social-media-trends-and-engagement-analysis  🚀 Viral Social Media Trends & Engagement Analysis       107245  2025-03-10 04:51:48.123000           2551         46  1.0              \n",
            "willianoliveiragibin/grocery-inventory                               Grocery Inventory                                        50801  2025-03-16 21:03:55.307000           1084         28  1.0              \n",
            "shantanugarg274/heart-prediction-dataset-quantum                     Heart Prediction Dataset (Quantum)                        6993  2025-02-28 14:00:06.887000           1373         28  1.0              \n"
          ]
        }
      ]
    },
    {
      "cell_type": "markdown",
      "source": [
        "**EKSTRAK DATASET**"
      ],
      "metadata": {
        "id": "A7Nlq2RYpZlI"
      }
    },
    {
      "cell_type": "code",
      "execution_count": 14,
      "metadata": {
        "id": "Um4E7dseBbPt"
      },
      "outputs": [],
      "source": [
        "import os,zipfile"
      ]
    },
    {
      "cell_type": "code",
      "execution_count": 15,
      "metadata": {
        "collapsed": true,
        "id": "o-pMaVvWBexj"
      },
      "outputs": [],
      "source": [
        "os.mkdir('dataset')"
      ]
    },
    {
      "cell_type": "code",
      "execution_count": 16,
      "metadata": {
        "id": "ohv6cozuBwBk"
      },
      "outputs": [],
      "source": [
        "dataset_dir = 'dataset'"
      ]
    },
    {
      "cell_type": "code",
      "execution_count": 19,
      "metadata": {
        "id": "jjY_qXXOB71F"
      },
      "outputs": [],
      "source": [
        "target_file = 'infant-cry-audio-corpus.zip'"
      ]
    },
    {
      "cell_type": "code",
      "execution_count": 20,
      "metadata": {
        "id": "IMfHh7RyB19l"
      },
      "outputs": [],
      "source": [
        "extracting = zipfile.ZipFile(target_file,'r')"
      ]
    },
    {
      "cell_type": "code",
      "execution_count": 21,
      "metadata": {
        "id": "9M5kl8AdCGU8"
      },
      "outputs": [],
      "source": [
        "Nextracting.extractall(dataset_dir)"
      ]
    },
    {
      "cell_type": "code",
      "execution_count": 22,
      "metadata": {
        "id": "qFVmk5mLCKMn"
      },
      "outputs": [],
      "source": [
        "extracting.close()"
      ]
    },
    {
      "cell_type": "code",
      "source": [
        "from google.colab import drive\n",
        "drive.mount('/content/drive')"
      ],
      "metadata": {
        "id": "bFU622nDejad",
        "outputId": "fe5d797d-2e9f-4183-8075-753bb45f9b47",
        "colab": {
          "base_uri": "https://localhost:8080/"
        }
      },
      "execution_count": 2,
      "outputs": [
        {
          "output_type": "stream",
          "name": "stdout",
          "text": [
            "Mounted at /content/drive\n"
          ]
        }
      ]
    },
    {
      "cell_type": "markdown",
      "source": [
        "**MASUKAN LIBRARY KE requirements.txt**"
      ],
      "metadata": {
        "id": "md-V423Spc8L"
      }
    },
    {
      "cell_type": "code",
      "source": [
        "pip freeze --local > /content/drive/MyDrive/requirements.txt"
      ],
      "metadata": {
        "id": "axejAgFTk6j2"
      },
      "execution_count": 48,
      "outputs": []
    },
    {
      "cell_type": "markdown",
      "source": [
        "**import semua library yang dibutuhkan**"
      ],
      "metadata": {
        "id": "Jg6IunDqp1JT"
      }
    },
    {
      "cell_type": "code",
      "source": [
        "import os\n",
        "import librosa\n",
        "import numpy as np\n",
        "from sklearn.model_selection import train_test_split\n",
        "from sklearn.preprocessing import LabelEncoder\n",
        "from sklearn.metrics import accuracy_score, classification_report\n",
        "from sklearn.neighbors import KNeighborsClassifier\n",
        "from sklearn.naive_bayes import GaussianNB\n",
        "from sklearn.svm import SVC\n",
        "from sklearn.metrics import accuracy_score, precision_score, recall_score, f1_score, confusion_matrix, ConfusionMatrixDisplay\n",
        "import matplotlib.pyplot as plt\n",
        "import random"
      ],
      "metadata": {
        "trusted": true,
        "execution": {
          "iopub.status.busy": "2025-01-22T11:07:35.324699Z",
          "iopub.execute_input": "2025-01-22T11:07:35.325244Z",
          "iopub.status.idle": "2025-01-22T11:07:35.331887Z",
          "shell.execute_reply.started": "2025-01-22T11:07:35.325207Z",
          "shell.execute_reply": "2025-01-22T11:07:35.3307Z"
        },
        "id": "gtM2hzCh2wX6"
      },
      "outputs": [],
      "execution_count": 23
    },
    {
      "cell_type": "markdown",
      "source": [
        "**Fungsi Python untuk ekstraksi ciri suara menggunakan MFCC (Mel-Frequency Cepstral Coefficients)**"
      ],
      "metadata": {
        "id": "LHJFsawB2wX_"
      }
    },
    {
      "cell_type": "code",
      "source": [
        "# MFCC extraction function\n",
        "def extract_mfcc(file_path, n_mfcc=100, fixed_length=100):\n",
        "    try:\n",
        "        # Read audio file\n",
        "        y, sr = librosa.load(file_path, sr=None)\n",
        "        # Extract MFCC\n",
        "        mfcc = librosa.feature.mfcc(y=y, sr=sr, n_mfcc=n_mfcc)\n",
        "        # Padding or trimming to a fixed length\n",
        "        if mfcc.shape[1] < fixed_length:\n",
        "            pad_width = fixed_length - mfcc.shape[1]\n",
        "            mfcc = np.pad(mfcc, pad_width=((0, 0), (0, pad_width)), mode='constant')\n",
        "        else:\n",
        "            mfcc = mfcc[:, :fixed_length]\n",
        "        return mfcc\n",
        "    except Exception as e:\n",
        "        print(f\"Error processing {file_path}: {e}\")\n",
        "        return None"
      ],
      "metadata": {
        "trusted": true,
        "execution": {
          "iopub.status.busy": "2025-01-22T11:07:35.333571Z",
          "iopub.execute_input": "2025-01-22T11:07:35.333996Z",
          "iopub.status.idle": "2025-01-22T11:07:35.351052Z",
          "shell.execute_reply.started": "2025-01-22T11:07:35.33395Z",
          "shell.execute_reply": "2025-01-22T11:07:35.349939Z"
        },
        "id": "oonQm3RC2wYB"
      },
      "outputs": [],
      "execution_count": 24
    },
    {
      "cell_type": "markdown",
      "source": [
        "# Evaluation functions\n",
        "\n",
        "Fungsi: evaluate_model(model, X_test, y_test, class_names)\n",
        "Parameter:\n",
        "\n",
        "    model: model machine learning yang sudah dilatih.\n",
        "\n",
        "    X_test: fitur (data uji).\n",
        "\n",
        "    y_test: label sebenarnya dari data uji.\n",
        "\n",
        "    class_names: daftar nama kelas (digunakan untuk label confusion matrix).*\n"
      ],
      "metadata": {
        "id": "PaaGj0V02wYC"
      }
    },
    {
      "cell_type": "code",
      "source": [
        "def evaluate_model(model, X_test, y_test, class_names):\n",
        "    y_pred = model.predict(X_test)\n",
        "\n",
        "    acc = accuracy_score(y_test, y_pred)\n",
        "    precision = precision_score(y_test, y_pred, average=\"weighted\")\n",
        "    recall = recall_score(y_test, y_pred, average=\"weighted\")\n",
        "    f1 = f1_score(y_test, y_pred, average=\"weighted\")\n",
        "\n",
        "    cm = confusion_matrix(y_test, y_pred)\n",
        "    disp = ConfusionMatrixDisplay(confusion_matrix=cm, display_labels=class_names)\n",
        "    disp.plot(cmap=plt.cm.Blues, xticks_rotation=\"vertical\")\n",
        "    plt.title(\"Confusion Matrix\")\n",
        "    plt.show()\n",
        "\n",
        "    metrics = {\n",
        "        \"Accuracy\": acc,\n",
        "        \"Precision\": precision,\n",
        "        \"Recall\": recall,\n",
        "        \"F1-Score\": f1,\n",
        "        \"Confusion Matrix\": cm\n",
        "    }\n",
        "\n",
        "    print(f\"Accuracy: {acc:.2f}\")\n",
        "    print(f\"Precision: {precision:.2f}\")\n",
        "    print(f\"Recall: {recall:.2f}\")\n",
        "    print(f\"F1-Score: {f1:.2f}\")\n",
        "\n",
        "    return metrics\n"
      ],
      "metadata": {
        "trusted": true,
        "execution": {
          "iopub.status.busy": "2025-01-22T11:07:35.352511Z",
          "iopub.execute_input": "2025-01-22T11:07:35.353Z",
          "iopub.status.idle": "2025-01-22T11:07:35.371435Z",
          "shell.execute_reply.started": "2025-01-22T11:07:35.352952Z",
          "shell.execute_reply": "2025-01-22T11:07:35.37036Z"
        },
        "id": "NP8g0L5O2wYD"
      },
      "outputs": [],
      "execution_count": 25
    },
    {
      "cell_type": "markdown",
      "source": [
        "# Feature extraction"
      ],
      "metadata": {
        "id": "zfLAGy3z2wYD"
      }
    },
    {
      "cell_type": "markdown",
      "source": [
        "Fungsi dari potongan kode di atas adalah untuk mengumpulkan dan mengekstrak fitur suara (MFCC) dari semua file audio .wav yang ada di dalam folder /content/dataset/donateacry_corpus, mengubahnya menjadi array numerik, dan mencatat label berdasarkan nama folder tempat file audio berada."
      ],
      "metadata": {
        "id": "I9fxKKxKrKYh"
      }
    },
    {
      "cell_type": "code",
      "source": [
        "import os\n",
        "import librosa\n",
        "import numpy as np\n",
        "\n",
        "base_dir = \"/content/dataset/donateacry_corpus\"\n",
        "\n",
        "mfcc_list = []\n",
        "labels = []\n",
        "\n",
        "fixed_length = 100\n",
        "\n",
        "for subdir, _, files in os.walk(base_dir):\n",
        "    for file in files:\n",
        "        if file.endswith(\".wav\"):\n",
        "            file_path = os.path.join(subdir, file)\n",
        "            mfcc_features = extract_mfcc(file_path, fixed_length=fixed_length)\n",
        "            if mfcc_features is not None:\n",
        "                mfcc_list.append(mfcc_features)\n",
        "                labels.append(os.path.basename(subdir))\n",
        "\n",
        "mfcc_array = np.array(mfcc_list)\n",
        "print(f\"MFCC array shape: {mfcc_array.shape}\")"
      ],
      "metadata": {
        "_uuid": "8f2839f25d086af736a60e9eeb907d3b93b6e0e5",
        "_cell_guid": "b1076dfc-b9ad-4769-8c92-a6c4dae69d19",
        "trusted": true,
        "execution": {
          "iopub.status.busy": "2025-01-22T11:07:35.374007Z",
          "iopub.execute_input": "2025-01-22T11:07:35.3744Z",
          "iopub.status.idle": "2025-01-22T11:07:41.401329Z",
          "shell.execute_reply.started": "2025-01-22T11:07:35.374357Z",
          "shell.execute_reply": "2025-01-22T11:07:41.400226Z"
        },
        "colab": {
          "base_uri": "https://localhost:8080/"
        },
        "id": "VwwQhYTR2wYE",
        "outputId": "ed839d56-6346-4b41-9d7b-974384df9c12"
      },
      "outputs": [
        {
          "output_type": "stream",
          "name": "stdout",
          "text": [
            "MFCC array shape: (457, 100, 100)\n"
          ]
        }
      ],
      "execution_count": 26
    },
    {
      "cell_type": "markdown",
      "source": [
        "# Prepare data"
      ],
      "metadata": {
        "id": "Sx8_OWIE2wYF"
      }
    },
    {
      "cell_type": "markdown",
      "source": [
        "    Tujuan: Menyeimbangkan jumlah sampel antar kelas agar tidak timpang (imbalanced).\n",
        "\n",
        "    Untuk setiap kelas:\n",
        "\n",
        "        Cari semua indeks file yang punya label tersebut.\n",
        "\n",
        "        Pilih acak hingga maksimal 27 sampel dari kelas itu.\n",
        "\n",
        "        Simpan MFCC-nya dan label-nya.\n",
        "\n",
        "    Kenapa penting? Agar model tidak berat sebelah ke kelas yang datanya lebih banyak."
      ],
      "metadata": {
        "id": "hLMVEBhOrsaU"
      }
    },
    {
      "cell_type": "code",
      "source": [
        "# prepare data\n",
        "label_encoder = LabelEncoder()\n",
        "y = label_encoder.fit_transform(labels)\n",
        "\n",
        "print(f\"Labels shape: {y.shape}\")\n",
        "\n",
        "# Downsample to 27 samples per class\n",
        "target_samples = 27\n",
        "downsampled_mfcc_list = []\n",
        "downsampled_labels = []\n",
        "\n",
        "for label in np.unique(labels):\n",
        "    indices = [i for i, l in enumerate(labels) if l == label]\n",
        "    selected_indices = random.sample(indices, min(target_samples, len(indices)))\n",
        "    downsampled_mfcc_list.extend(mfcc_array[selected_indices])\n",
        "    downsampled_labels.extend([label] * len(selected_indices))\n",
        "\n",
        "downsampled_mfcc_array = np.array(downsampled_mfcc_list)\n",
        "downsampled_labels = np.array(downsampled_labels)\n",
        "\n",
        "print(f\"Downsampled MFCC array shape: {downsampled_mfcc_array.shape}\")\n",
        "\n",
        "X_train, X_test, y_train, y_test = train_test_split(downsampled_mfcc_array, label_encoder.transform(downsampled_labels), test_size=0.2, random_state=42)\n",
        "\n",
        "print(f\"X_train shape: {X_train.shape}\")\n",
        "print(f\"X_test shape: {X_test.shape}\")\n",
        "print(f\"y_train shape: {y_train.shape}\")\n",
        "print(f\"y_test shape: {y_test.shape}\")\n"
      ],
      "metadata": {
        "trusted": true,
        "execution": {
          "iopub.status.busy": "2025-01-22T11:30:16.179305Z",
          "iopub.execute_input": "2025-01-22T11:30:16.179738Z",
          "iopub.status.idle": "2025-01-22T11:30:16.197308Z",
          "shell.execute_reply.started": "2025-01-22T11:30:16.179699Z",
          "shell.execute_reply": "2025-01-22T11:30:16.196049Z"
        },
        "colab": {
          "base_uri": "https://localhost:8080/"
        },
        "id": "CwFrfHf92wYF",
        "outputId": "08035316-7d05-4a41-9627-43c9d1d6a4a0"
      },
      "outputs": [
        {
          "output_type": "stream",
          "name": "stdout",
          "text": [
            "Labels shape: (457,)\n",
            "Downsampled MFCC array shape: (102, 100, 100)\n",
            "X_train shape: (81, 100, 100)\n",
            "X_test shape: (21, 100, 100)\n",
            "y_train shape: (81,)\n",
            "y_test shape: (21,)\n"
          ]
        }
      ],
      "execution_count": 27
    },
    {
      "cell_type": "markdown",
      "source": [
        "Mengubah data ekstraksi fitur MFCC dari bentuk 3 dimensi menjadi 1 dimensi per sample, sehingga dapat digunakan oleh algoritma machine learning klasik seperti Naive Bayes, Random Forest, atau KNN.\n",
        "\n",
        "\n"
      ],
      "metadata": {
        "id": "qAZQ6LHAsB2X"
      }
    },
    {
      "cell_type": "code",
      "source": [
        "n_samples, n_mfcc, n_frames = X_train.shape\n",
        "X_train_1d = X_train.reshape(n_samples, n_mfcc * n_frames)\n",
        "X_test_1d = X_test.reshape(X_test.shape[0], n_mfcc * n_frames)\n",
        "\n",
        "print(f\"X_train_1d shape: {X_train_1d.shape}\")\n",
        "print(f\"X_test_1d shape: {X_test_1d.shape}\")"
      ],
      "metadata": {
        "trusted": true,
        "execution": {
          "iopub.status.busy": "2025-01-22T11:30:16.199543Z",
          "iopub.execute_input": "2025-01-22T11:30:16.200025Z",
          "iopub.status.idle": "2025-01-22T11:30:16.213476Z",
          "shell.execute_reply.started": "2025-01-22T11:30:16.199975Z",
          "shell.execute_reply": "2025-01-22T11:30:16.212254Z"
        },
        "colab": {
          "base_uri": "https://localhost:8080/"
        },
        "id": "Geu1iMzF2wYG",
        "outputId": "4ee97d63-6a42-44e9-bf4d-aa345b3e80ef"
      },
      "outputs": [
        {
          "output_type": "stream",
          "name": "stdout",
          "text": [
            "X_train_2d shape: (81, 10000)\n",
            "X_test_2d shape: (21, 10000)\n"
          ]
        }
      ],
      "execution_count": 28
    },
    {
      "cell_type": "markdown",
      "source": [
        "Tujuan : Untuk mengecek dan memvisualisasikan distribusi jumlah sample pada masing-masing kelas (label) dalam dataset hasil downsampling."
      ],
      "metadata": {
        "id": "aLa6QzYLtpWA"
      }
    },
    {
      "cell_type": "code",
      "source": [
        "# Print class distributions\n",
        "print(f\"Total samples: {len(downsampled_labels)}\")\n",
        "unique_labels, counts = np.unique(downsampled_labels, return_counts=True)\n",
        "print(f\"Number of classes: {len(unique_labels)}\")\n",
        "print(\"Class distribution:\")\n",
        "for label, count in zip(unique_labels, counts):\n",
        "    print(f\" - {label}: {count}\")\n",
        "\n",
        "plt.figure(figsize=(8, 6))\n",
        "plt.bar(unique_labels, counts, color='skyblue')\n",
        "plt.title(\"Class Distribution\")\n",
        "plt.xlabel(\"Class Labels\")\n",
        "plt.ylabel(\"Number of Samples\")\n",
        "plt.xticks(rotation=45)\n",
        "plt.show()"
      ],
      "metadata": {
        "trusted": true,
        "execution": {
          "iopub.status.busy": "2025-01-22T11:30:16.214886Z",
          "iopub.execute_input": "2025-01-22T11:30:16.215224Z",
          "iopub.status.idle": "2025-01-22T11:30:16.447112Z",
          "shell.execute_reply.started": "2025-01-22T11:30:16.215191Z",
          "shell.execute_reply": "2025-01-22T11:30:16.44599Z"
        },
        "colab": {
          "base_uri": "https://localhost:8080/",
          "height": 757
        },
        "id": "XugYTmAw2wYH",
        "outputId": "1af8c21e-5df2-46a3-9573-121f44d017ee"
      },
      "outputs": [
        {
          "output_type": "stream",
          "name": "stdout",
          "text": [
            "Total samples: 102\n",
            "Number of classes: 5\n",
            "Class distribution:\n",
            " - belly_pain: 16\n",
            " - burping: 8\n",
            " - discomfort: 27\n",
            " - hungry: 27\n",
            " - tired: 24\n"
          ]
        },
        {
          "output_type": "display_data",
          "data": {
            "text/plain": [
              "<Figure size 800x600 with 1 Axes>"
            ],
            "image/png": "[encoded data removed]"
          },
          "metadata": {}
        }
      ],
      "execution_count": 29
    },
    {
      "cell_type": "markdown",
      "source": [
        "# Apply the model KNN dan Naive Bayes"
      ],
      "metadata": {
        "id": "2SBcQyiB2wYI"
      }
    },
    {
      "cell_type": "code",
      "source": [
        "knn_model = KNeighborsClassifier(n_neighbors=2)\n",
        "knn_model.fit(X_train_1d, y_train)\n",
        "knn_metrics = evaluate_model(knn_model, X_test_1d, y_test, label_encoder.classes_)"
      ],
      "metadata": {
        "trusted": true,
        "execution": {
          "iopub.status.busy": "2025-01-22T11:30:16.44997Z",
          "iopub.execute_input": "2025-01-22T11:30:16.450747Z",
          "iopub.status.idle": "2025-01-22T11:30:16.858072Z",
          "shell.execute_reply.started": "2025-01-22T11:30:16.450697Z",
          "shell.execute_reply": "2025-01-22T11:30:16.856663Z"
        },
        "colab": {
          "base_uri": "https://localhost:8080/",
          "height": 660
        },
        "id": "axKwpxN-2wYI",
        "outputId": "f369d212-a516-4ac3-dd50-36d29bce9edd"
      },
      "outputs": [
        {
          "output_type": "stream",
          "name": "stderr",
          "text": [
            "/usr/local/lib/python3.11/dist-packages/sklearn/metrics/_classification.py:1565: UndefinedMetricWarning: Precision is ill-defined and being set to 0.0 in labels with no predicted samples. Use `zero_division` parameter to control this behavior.\n",
            "  _warn_prf(average, modifier, f\"{metric.capitalize()} is\", len(result))\n"
          ]
        },
        {
          "output_type": "display_data",
          "data": {
            "text/plain": [
              "<Figure size 640x480 with 2 Axes>"
            ],
            "image/png": "[encoded data removed]"
          },
          "metadata": {}
        },
        {
          "output_type": "stream",
          "name": "stdout",
          "text": [
            "Accuracy: 0.10\n",
            "Precision: 0.11\n",
            "Recall: 0.10\n",
            "F1-Score: 0.10\n"
          ]
        }
      ],
      "execution_count": 30
    },
    {
      "cell_type": "code",
      "source": [
        "# Naive Bayes\n",
        "nb_model = GaussianNB()\n",
        "nb_model.fit(X_train_1d, y_train)\n",
        "nb_metrics = evaluate_model(nb_model, X_test_1d, y_test, label_encoder.classes_)"
      ],
      "metadata": {
        "trusted": true,
        "execution": {
          "iopub.status.busy": "2025-01-22T11:30:16.859606Z",
          "iopub.execute_input": "2025-01-22T11:30:16.860572Z",
          "iopub.status.idle": "2025-01-22T11:30:17.128374Z",
          "shell.execute_reply.started": "2025-01-22T11:30:16.86052Z",
          "shell.execute_reply": "2025-01-22T11:30:17.127347Z"
        },
        "colab": {
          "base_uri": "https://localhost:8080/",
          "height": 660
        },
        "id": "rePEbrVC2wYJ",
        "outputId": "bc6ca2cb-262e-4205-a661-02df41c019f8"
      },
      "outputs": [
        {
          "output_type": "stream",
          "name": "stderr",
          "text": [
            "/usr/local/lib/python3.11/dist-packages/sklearn/metrics/_classification.py:1565: UndefinedMetricWarning: Precision is ill-defined and being set to 0.0 in labels with no predicted samples. Use `zero_division` parameter to control this behavior.\n",
            "  _warn_prf(average, modifier, f\"{metric.capitalize()} is\", len(result))\n"
          ]
        },
        {
          "output_type": "display_data",
          "data": {
            "text/plain": [
              "<Figure size 640x480 with 2 Axes>"
            ],
            "image/png": "[encoded data removed]"
          },
          "metadata": {}
        },
        {
          "output_type": "stream",
          "name": "stdout",
          "text": [
            "Accuracy: 0.19\n",
            "Precision: 0.25\n",
            "Recall: 0.19\n",
            "F1-Score: 0.19\n"
          ]
        }
      ],
      "execution_count": 31
    },
    {
      "cell_type": "markdown",
      "source": [
        "Bandingan Hasil Model\n"
      ],
      "metadata": {
        "id": "EKoMQKXs2wYK"
      }
    },
    {
      "cell_type": "code",
      "source": [
        "results = {\n",
        "    \"KNN\": knn_metrics[\"Accuracy\"],\n",
        "    \"Naive Bayes\": nb_metrics[\"Accuracy\"],\n",
        "\n",
        "}\n",
        "\n",
        "print(\"\\nModel Comparison:\")\n",
        "for model, acc in results.items():\n",
        "    print(f\"{model}: {acc:.2f}\")"
      ],
      "metadata": {
        "trusted": true,
        "execution": {
          "iopub.status.busy": "2025-01-22T11:30:17.448195Z",
          "iopub.execute_input": "2025-01-22T11:30:17.448503Z",
          "iopub.status.idle": "2025-01-22T11:30:17.454718Z",
          "shell.execute_reply.started": "2025-01-22T11:30:17.448473Z",
          "shell.execute_reply": "2025-01-22T11:30:17.453693Z"
        },
        "colab": {
          "base_uri": "https://localhost:8080/"
        },
        "id": "JTT7olU12wYL",
        "outputId": "55c8f301-92fd-42c4-f1ca-43a460866033"
      },
      "outputs": [
        {
          "output_type": "stream",
          "name": "stdout",
          "text": [
            "\n",
            "Model Comparison:\n",
            "KNN: 0.10\n",
            "Naive Bayes: 0.19\n"
          ]
        }
      ],
      "execution_count": 38
    },
    {
      "cell_type": "markdown",
      "source": [],
      "metadata": {
        "id": "P78RPeGguBOA"
      }
    },
    {
      "cell_type": "markdown",
      "source": [
        "Fungsi predict_audio di atas. Fungsi ini digunakan untuk memprediksi kelas dari sebuah file audio .wav menggunakan model machine learning yang sudah dilatih sebelumnya."
      ],
      "metadata": {
        "id": "nO4g09GIuW3b"
      }
    },
    {
      "cell_type": "code",
      "source": [
        "def predict_audio(model, file_path, label_encoder, fixed_length=100):\n",
        "    # Ekstraksi fitur MFCC dari file audio\n",
        "    mfcc_features = extract_mfcc(file_path, fixed_length=fixed_length)\n",
        "\n",
        "    if mfcc_features is None:\n",
        "        print(f\"❌ Gagal membaca file: {file_path}\")\n",
        "        return\n",
        "\n",
        "    # Ubah bentuk fitur agar sesuai dengan model (reshape menjadi 2D)\n",
        "    mfcc_features = mfcc_features.reshape(1, -1)\n",
        "\n",
        "    # Prediksi kelas\n",
        "    predicted_label = model.predict(mfcc_features)[0]\n",
        "\n",
        "    # Konversi dari angka ke nama label\n",
        "    predicted_class = label_encoder.inverse_transform([predicted_label])[0]\n",
        "\n",
        "    print(f\"✅ File: {file_path}\")\n",
        "    print(f\"🎯 Prediksi Kelas: {predicted_class}\")\n",
        "\n",
        "    return predicted_class\n"
      ],
      "metadata": {
        "id": "iLfwev3t3dEX"
      },
      "execution_count": 39,
      "outputs": []
    },
    {
      "cell_type": "code",
      "source": [
        "import random\n",
        "\n",
        "# Pilih suara acak dari dataset untuk diuji\n",
        "random_folder = random.choice(os.listdir(base_dir))\n",
        "random_folder_path = os.path.join(base_dir, random_folder)\n",
        "\n",
        "# Ambil file wav acak dari folder\n",
        "random_file = random.choice(os.listdir(random_folder_path))\n",
        "random_file_path = os.path.join(random_folder_path, random_file)\n",
        "\n",
        "print(f\"🔍 File yang diuji: {random_file_path}\")\n"
      ],
      "metadata": {
        "colab": {
          "base_uri": "https://localhost:8080/"
        },
        "id": "Yymp3pjr3fi-",
        "outputId": "11732af2-58a9-457e-dc74-d6d0c22f6319"
      },
      "execution_count": 42,
      "outputs": [
        {
          "output_type": "stream",
          "name": "stdout",
          "text": [
            "🔍 File yang diuji: /content/dataset/donateacry_corpus/belly_pain/643D64AD-B711-469A-AF69-55C0D5D3E30F-1430138514-1.0-m-72-bp.wav\n"
          ]
        }
      ]
    },
    {
      "cell_type": "code",
      "source": [
        "print(\"\\n🔹 Prediksi dengan KNN:\")\n",
        "predict_audio(knn_model, random_file_path, label_encoder)\n",
        "\n",
        "print(\"\\n🔹 Prediksi dengan Naive Bayes:\")\n",
        "predict_audio(nb_model, random_file_path, label_encoder)\n",
        "\n"
      ],
      "metadata": {
        "colab": {
          "base_uri": "https://localhost:8080/",
          "height": 199
        },
        "id": "J-ohV4zO3hrY",
        "outputId": "169f91bb-6ab7-4583-ee50-09cde2f36f48"
      },
      "execution_count": 43,
      "outputs": [
        {
          "output_type": "stream",
          "name": "stdout",
          "text": [
            "\n",
            "🔹 Prediksi dengan KNN:\n",
            "✅ File: /content/dataset/donateacry_corpus/belly_pain/643D64AD-B711-469A-AF69-55C0D5D3E30F-1430138514-1.0-m-72-bp.wav\n",
            "🎯 Prediksi Kelas: belly_pain\n",
            "\n",
            "🔹 Prediksi dengan Naive Bayes:\n",
            "✅ File: /content/dataset/donateacry_corpus/belly_pain/643D64AD-B711-469A-AF69-55C0D5D3E30F-1430138514-1.0-m-72-bp.wav\n",
            "🎯 Prediksi Kelas: belly_pain\n"
          ]
        },
        {
          "output_type": "execute_result",
          "data": {
            "text/plain": [
              "np.str_('belly_pain')"
            ],
            "application/vnd.google.colaboratory.intrinsic+json": {
              "type": "string"
            }
          },
          "metadata": {},
          "execution_count": 43
        }
      ]
    },
    {
      "cell_type": "markdown",
      "source": [
        "Fungsi atas digunakan untuk membandingkan performa dua model machine learning (dalam hal ini: KNN dan Naive Bayes) berdasarkan metrik Recall dan F1-Score, lalu memvisualisasikannya dalam bentuk grafik batang (bar chart)."
      ],
      "metadata": {
        "id": "cvYfCoGburvA"
      }
    },
    {
      "cell_type": "code",
      "source": [
        "import matplotlib.pyplot as plt\n",
        "import numpy as np\n",
        "\n",
        "# Misal, knn_metrics, nb_metrics, dan svm_metrics sudah dihitung dengan fungsi evaluate_model sebelumnya\n",
        "\n",
        "# Mengumpulkan metrik dari setiap model\n",
        "models = [\"KNN\", \"Naive Bayes\"]\n",
        "recall_scores = [knn_metrics[\"Recall\"], nb_metrics[\"Recall\"]]\n",
        "f1_scores = [knn_metrics[\"F1-Score\"], nb_metrics[\"F1-Score\"]]\n",
        "\n",
        "# Menampilkan metrik di konsol\n",
        "print(\"Perbandingan Recall dan F1-Score untuk masing-masing model:\")\n",
        "for model, rec, f1 in zip(models, recall_scores, f1_scores):\n",
        "    print(f\"{model} => Recall: {rec:.2f}, F1-Score: {f1:.2f}\")\n",
        "\n",
        "# Visualisasi dalam bentuk grafik batang\n",
        "x = np.arange(len(models))  # label posisi untuk tiap model\n",
        "width = 0.35  # lebar batang\n",
        "\n",
        "fig, ax = plt.subplots(figsize=(8,6))\n",
        "rects1 = ax.bar(x - width/2, recall_scores, width, label='Recall')\n",
        "rects2 = ax.bar(x + width/2, f1_scores, width, label='F1-Score')\n",
        "\n",
        "# Tambahkan label, judul, dan keterangan sumbu\n",
        "ax.set_ylabel('Skor')\n",
        "ax.set_title('Perbandingan Recall dan F1-Score untuk Setiap Model')\n",
        "ax.set_xticks(x)\n",
        "ax.set_xticklabels(models)\n",
        "ax.legend()\n",
        "\n",
        "# Menambahkan nilai di atas tiap batang\n",
        "def add_labels(rects):\n",
        "    for rect in rects:\n",
        "        height = rect.get_height()\n",
        "        ax.annotate(f'{height:.2f}',\n",
        "                    xy=(rect.get_x() + rect.get_width() / 2, height),\n",
        "                    xytext=(0, 3),  # jarak 3 titik ke atas\n",
        "                    textcoords=\"offset points\",\n",
        "                    ha='center', va='bottom')\n",
        "\n",
        "add_labels(rects1)\n",
        "add_labels(rects2)\n",
        "\n",
        "fig.tight_layout()\n",
        "plt.show()\n"
      ],
      "metadata": {
        "colab": {
          "base_uri": "https://localhost:8080/",
          "height": 659
        },
        "id": "SIG4qHs64Q3I",
        "outputId": "42b5d9ba-c631-4368-d632-b9f20c0b8aba"
      },
      "execution_count": 45,
      "outputs": [
        {
          "output_type": "stream",
          "name": "stdout",
          "text": [
            "Perbandingan Recall dan F1-Score untuk masing-masing model:\n",
            "KNN => Recall: 0.10, F1-Score: 0.10\n",
            "Naive Bayes => Recall: 0.19, F1-Score: 0.19\n"
          ]
        },
        {
          "output_type": "display_data",
          "data": {
            "text/plain": [
              "<Figure size 800x600 with 1 Axes>"
            ],
            "image/png": "[encoded data removed]"
          },
          "metadata": {}
        }
      ]
    }
  ]
}